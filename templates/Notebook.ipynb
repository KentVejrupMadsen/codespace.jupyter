{
 "cells": [
  {
   "attachments": {},
   "cell_type": "markdown",
   "id": "b3c04bbb",
   "metadata": {},
   "source": [
    "# Python Script begins"
   ]
  }
 ],
 "metadata": {
  "kernelspec": {
   "display_name": "Python 3 (ipykernel)",
   "language": "python",
   "name": "python3"
  }
 },
 "nbformat": 4,
 "nbformat_minor": 5
}
