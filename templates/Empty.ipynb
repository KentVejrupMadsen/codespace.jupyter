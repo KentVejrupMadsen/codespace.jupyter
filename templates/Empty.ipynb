{
 "cells": [
  {
   "cell_type": "markdown",
   "id": "ea6629d8",
   "metadata": {},
   "source": [
    "# Empty Project"
   ]
  },
  {
   "cell_type": "code",
   "execution_count": null,
   "metadata": {},
   "outputs": [],
   "source": []
  }
 ],
 "metadata": {
  "kernelspec": {
   "display_name": "Python 3 (ipykernel)",
   "language": "python",
   "name": "python3"
  }
 },
 "nbformat": 4,
 "nbformat_minor": 5
}
