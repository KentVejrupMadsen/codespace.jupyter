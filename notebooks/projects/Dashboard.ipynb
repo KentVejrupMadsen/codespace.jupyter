{
 "cells": [
  {
   "cell_type": "markdown",
   "id": "ea6629d8",
   "metadata": {},
   "source": [
    "# Notebook Dashboard"
   ]
  },
  {
   "cell_type": "code",
   "execution_count": 2,
   "metadata": {},
   "outputs": [
    {
     "name": "stdout",
     "output_type": "stream",
     "text": [
      "test\n"
     ]
    }
   ],
   "source": []
  }
 ],
 "metadata": {
  "kernelspec": {
   "display_name": "Python 3 (ipykernel)",
   "language": "python",
   "name": "python3"
  }
 },
 "nbformat": 4,
 "nbformat_minor": 5
}
