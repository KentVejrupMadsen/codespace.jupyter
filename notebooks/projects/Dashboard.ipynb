{
 "cells": [
  {
   "attachments": {},
   "cell_type": "markdown",
   "id": "b3c04bbb",
   "metadata": {},
   "source": [
    "# Dashboard"
   ]
  },
  {
   "cell_type": "code",
   "execution_count": 1,
   "id": "aa557e99",
   "metadata": {},
   "outputs": [
    {
     "name": "stdout",
     "output_type": "stream",
     "text": [
      "Requirement already satisfied: matplotlib in ./.environment/lib/python3.10/site-packages (3.7.2)\n",
      "Requirement already satisfied: contourpy>=1.0.1 in ./.environment/lib/python3.10/site-packages (from matplotlib) (1.1.0)\n",
      "Requirement already satisfied: cycler>=0.10 in ./.environment/lib/python3.10/site-packages (from matplotlib) (0.11.0)\n",
      "Requirement already satisfied: fonttools>=4.22.0 in ./.environment/lib/python3.10/site-packages (from matplotlib) (4.41.0)\n",
      "Requirement already satisfied: kiwisolver>=1.0.1 in ./.environment/lib/python3.10/site-packages (from matplotlib) (1.4.4)\n",
      "Requirement already satisfied: numpy>=1.20 in ./.environment/lib/python3.10/site-packages (from matplotlib) (1.24.3)\n",
      "Requirement already satisfied: packaging>=20.0 in ./.environment/lib/python3.10/site-packages (from matplotlib) (23.1)\n",
      "Requirement already satisfied: pillow>=6.2.0 in ./.environment/lib/python3.10/site-packages (from matplotlib) (10.0.0)\n",
      "Requirement already satisfied: pyparsing<3.1,>=2.3.1 in ./.environment/lib/python3.10/site-packages (from matplotlib) (3.0.9)\n",
      "Requirement already satisfied: python-dateutil>=2.7 in ./.environment/lib/python3.10/site-packages (from matplotlib) (2.8.2)\n",
      "Requirement already satisfied: six>=1.5 in ./.environment/lib/python3.10/site-packages (from python-dateutil>=2.7->matplotlib) (1.16.0)\n",
      "Requirement already satisfied: networkx in ./.environment/lib/python3.10/site-packages (3.1)\n",
      "Requirement already satisfied: pillow in ./.environment/lib/python3.10/site-packages (10.0.0)\n",
      "Requirement already satisfied: ipympl in ./.environment/lib/python3.10/site-packages (0.9.3)\n",
      "Requirement already satisfied: ipython<9 in ./.environment/lib/python3.10/site-packages (from ipympl) (8.14.0)\n",
      "Requirement already satisfied: numpy in ./.environment/lib/python3.10/site-packages (from ipympl) (1.24.3)\n",
      "Requirement already satisfied: ipython-genutils in ./.environment/lib/python3.10/site-packages (from ipympl) (0.2.0)\n",
      "Requirement already satisfied: pillow in ./.environment/lib/python3.10/site-packages (from ipympl) (10.0.0)\n",
      "Requirement already satisfied: traitlets<6 in ./.environment/lib/python3.10/site-packages (from ipympl) (5.9.0)\n",
      "Requirement already satisfied: ipywidgets<9,>=7.6.0 in ./.environment/lib/python3.10/site-packages (from ipympl) (8.0.7)\n",
      "Requirement already satisfied: matplotlib<4,>=3.4.0 in ./.environment/lib/python3.10/site-packages (from ipympl) (3.7.2)\n",
      "Requirement already satisfied: backcall in ./.environment/lib/python3.10/site-packages (from ipython<9->ipympl) (0.2.0)\n",
      "Requirement already satisfied: decorator in ./.environment/lib/python3.10/site-packages (from ipython<9->ipympl) (5.1.1)\n",
      "Requirement already satisfied: jedi>=0.16 in ./.environment/lib/python3.10/site-packages (from ipython<9->ipympl) (0.18.2)\n",
      "Requirement already satisfied: matplotlib-inline in ./.environment/lib/python3.10/site-packages (from ipython<9->ipympl) (0.1.6)\n",
      "Requirement already satisfied: pickleshare in ./.environment/lib/python3.10/site-packages (from ipython<9->ipympl) (0.7.5)\n",
      "Requirement already satisfied: prompt-toolkit!=3.0.37,<3.1.0,>=3.0.30 in ./.environment/lib/python3.10/site-packages (from ipython<9->ipympl) (3.0.39)\n",
      "Requirement already satisfied: pygments>=2.4.0 in ./.environment/lib/python3.10/site-packages (from ipython<9->ipympl) (2.15.1)\n",
      "Requirement already satisfied: stack-data in ./.environment/lib/python3.10/site-packages (from ipython<9->ipympl) (0.6.2)\n",
      "Requirement already satisfied: pexpect>4.3 in ./.environment/lib/python3.10/site-packages (from ipython<9->ipympl) (4.8.0)\n",
      "Requirement already satisfied: ipykernel>=4.5.1 in ./.environment/lib/python3.10/site-packages (from ipywidgets<9,>=7.6.0->ipympl) (6.24.0)\n",
      "Requirement already satisfied: widgetsnbextension~=4.0.7 in ./.environment/lib/python3.10/site-packages (from ipywidgets<9,>=7.6.0->ipympl) (4.0.8)\n",
      "Requirement already satisfied: jupyterlab-widgets~=3.0.7 in ./.environment/lib/python3.10/site-packages (from ipywidgets<9,>=7.6.0->ipympl) (3.0.8)\n",
      "Requirement already satisfied: contourpy>=1.0.1 in ./.environment/lib/python3.10/site-packages (from matplotlib<4,>=3.4.0->ipympl) (1.1.0)\n",
      "Requirement already satisfied: cycler>=0.10 in ./.environment/lib/python3.10/site-packages (from matplotlib<4,>=3.4.0->ipympl) (0.11.0)\n",
      "Requirement already satisfied: fonttools>=4.22.0 in ./.environment/lib/python3.10/site-packages (from matplotlib<4,>=3.4.0->ipympl) (4.41.0)\n",
      "Requirement already satisfied: kiwisolver>=1.0.1 in ./.environment/lib/python3.10/site-packages (from matplotlib<4,>=3.4.0->ipympl) (1.4.4)\n",
      "Requirement already satisfied: packaging>=20.0 in ./.environment/lib/python3.10/site-packages (from matplotlib<4,>=3.4.0->ipympl) (23.1)\n",
      "Requirement already satisfied: pyparsing<3.1,>=2.3.1 in ./.environment/lib/python3.10/site-packages (from matplotlib<4,>=3.4.0->ipympl) (3.0.9)\n",
      "Requirement already satisfied: python-dateutil>=2.7 in ./.environment/lib/python3.10/site-packages (from matplotlib<4,>=3.4.0->ipympl) (2.8.2)\n",
      "Requirement already satisfied: comm>=0.1.1 in ./.environment/lib/python3.10/site-packages (from ipykernel>=4.5.1->ipywidgets<9,>=7.6.0->ipympl) (0.1.3)\n",
      "Requirement already satisfied: debugpy>=1.6.5 in ./.environment/lib/python3.10/site-packages (from ipykernel>=4.5.1->ipywidgets<9,>=7.6.0->ipympl) (1.6.7)\n",
      "Requirement already satisfied: jupyter-client>=6.1.12 in ./.environment/lib/python3.10/site-packages (from ipykernel>=4.5.1->ipywidgets<9,>=7.6.0->ipympl) (8.3.0)\n",
      "Requirement already satisfied: jupyter-core!=5.0.*,>=4.12 in ./.environment/lib/python3.10/site-packages (from ipykernel>=4.5.1->ipywidgets<9,>=7.6.0->ipympl) (5.3.1)\n",
      "Requirement already satisfied: nest-asyncio in ./.environment/lib/python3.10/site-packages (from ipykernel>=4.5.1->ipywidgets<9,>=7.6.0->ipympl) (1.5.6)\n",
      "Requirement already satisfied: psutil in ./.environment/lib/python3.10/site-packages (from ipykernel>=4.5.1->ipywidgets<9,>=7.6.0->ipympl) (5.9.5)\n",
      "Requirement already satisfied: pyzmq>=20 in ./.environment/lib/python3.10/site-packages (from ipykernel>=4.5.1->ipywidgets<9,>=7.6.0->ipympl) (25.1.0)\n",
      "Requirement already satisfied: tornado>=6.1 in ./.environment/lib/python3.10/site-packages (from ipykernel>=4.5.1->ipywidgets<9,>=7.6.0->ipympl) (6.3.2)\n",
      "Requirement already satisfied: parso<0.9.0,>=0.8.0 in ./.environment/lib/python3.10/site-packages (from jedi>=0.16->ipython<9->ipympl) (0.8.3)\n",
      "Requirement already satisfied: ptyprocess>=0.5 in ./.environment/lib/python3.10/site-packages (from pexpect>4.3->ipython<9->ipympl) (0.7.0)\n",
      "Requirement already satisfied: wcwidth in ./.environment/lib/python3.10/site-packages (from prompt-toolkit!=3.0.37,<3.1.0,>=3.0.30->ipython<9->ipympl) (0.2.6)\n",
      "Requirement already satisfied: six>=1.5 in ./.environment/lib/python3.10/site-packages (from python-dateutil>=2.7->matplotlib<4,>=3.4.0->ipympl) (1.16.0)\n",
      "Requirement already satisfied: executing>=1.2.0 in ./.environment/lib/python3.10/site-packages (from stack-data->ipython<9->ipympl) (1.2.0)\n",
      "Requirement already satisfied: asttokens>=2.1.0 in ./.environment/lib/python3.10/site-packages (from stack-data->ipython<9->ipympl) (2.2.1)\n",
      "Requirement already satisfied: pure-eval in ./.environment/lib/python3.10/site-packages (from stack-data->ipython<9->ipympl) (0.2.2)\n",
      "Requirement already satisfied: platformdirs>=2.5 in ./.environment/lib/python3.10/site-packages (from jupyter-core!=5.0.*,>=4.12->ipykernel>=4.5.1->ipywidgets<9,>=7.6.0->ipympl) (3.9.0)\n",
      "Requirement already satisfied: requests in ./.environment/lib/python3.10/site-packages (2.31.0)\n",
      "Requirement already satisfied: charset-normalizer<4,>=2 in ./.environment/lib/python3.10/site-packages (from requests) (3.2.0)\n",
      "Requirement already satisfied: idna<4,>=2.5 in ./.environment/lib/python3.10/site-packages (from requests) (3.4)\n",
      "Requirement already satisfied: urllib3<3,>=1.21.1 in ./.environment/lib/python3.10/site-packages (from requests) (1.26.16)\n",
      "Requirement already satisfied: certifi>=2017.4.17 in ./.environment/lib/python3.10/site-packages (from requests) (2023.5.7)\n",
      "Requirement already satisfied: plotly in ./.environment/lib/python3.10/site-packages (5.15.0)\n",
      "Requirement already satisfied: tenacity>=6.2.0 in ./.environment/lib/python3.10/site-packages (from plotly) (8.2.2)\n",
      "Requirement already satisfied: packaging in ./.environment/lib/python3.10/site-packages (from plotly) (23.1)\n"
     ]
    }
   ],
   "source": [
    "!pip install matplotlib\n",
    "!pip install networkx\n",
    "!pip install pillow\n",
    "!pip install ipympl\n",
    "!pip install requests\n",
    "!pip install plotly\n"
   ]
  },
  {
   "cell_type": "code",
   "execution_count": null,
   "id": "56988119",
   "metadata": {},
   "outputs": [],
   "source": []
  }
 ],
 "metadata": {
  "kernelspec": {
   "display_name": "Python 3 (ipykernel)",
   "language": "python",
   "name": "python3"
  },
  "language_info": {
   "codemirror_mode": {
    "name": "ipython",
    "version": 3
   },
   "file_extension": ".py",
   "mimetype": "text/x-python",
   "name": "python",
   "nbconvert_exporter": "python",
   "pygments_lexer": "ipython3",
   "version": "3.10.6"
  }
 },
 "nbformat": 4,
 "nbformat_minor": 5
}
