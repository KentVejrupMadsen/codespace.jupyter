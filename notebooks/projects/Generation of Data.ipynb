{
 "cells": [
  {
   "attachments": {},
   "cell_type": "markdown",
   "id": "b3c04bbb",
   "metadata": {},
   "source": [
    "# Generation of Symbol Dataset"
   ]
  },
  {
   "cell_type": "markdown",
   "id": "7a2fa8fa",
   "metadata": {},
   "source": [
    "## Installation of required packages"
   ]
  },
  {
   "cell_type": "code",
   "execution_count": null,
   "id": "aa557e99",
   "metadata": {},
   "outputs": [],
   "source": [
    "!pip install pillow\n",
    "!pip install ipympl"
   ]
  },
  {
   "cell_type": "markdown",
   "id": "b52b0e40",
   "metadata": {},
   "source": [
    "## Script"
   ]
  },
  {
   "cell_type": "markdown",
   "id": "101dc111",
   "metadata": {},
   "source": [
    "### Import Internal Packages"
   ]
  },
  {
   "cell_type": "code",
   "execution_count": null,
   "id": "899d53f3",
   "metadata": {},
   "outputs": [],
   "source": [
    "from os         \\\n",
    "    import      \\\n",
    "    walk,       \\\n",
    "    mkdir,      \\\n",
    "    listdir,    \\\n",
    "    remove\n",
    "\n",
    "from os.path    \\\n",
    "    import      \\\n",
    "    join,       \\\n",
    "    isdir,      \\\n",
    "    isfile\n",
    "\n",
    "from time \\\n",
    "    import time_ns\n",
    "\n",
    "from random \\\n",
    "    import SystemRandom\n"
   ]
  },
  {
   "cell_type": "markdown",
   "id": "f8e83a47",
   "metadata": {},
   "source": [
    "### External Packages"
   ]
  },
  {
   "cell_type": "code",
   "execution_count": null,
   "id": "e2a1b96b",
   "metadata": {},
   "outputs": [],
   "source": [
    "from PIL            \\\n",
    "    import          \\\n",
    "        ImageDraw,  \\\n",
    "        ImageFont\n",
    "\n",
    "from PIL.Image  \\\n",
    "    import      \\\n",
    "        Image,  \\\n",
    "        new"
   ]
  },
  {
   "cell_type": "markdown",
   "id": "519849fd",
   "metadata": {},
   "source": [
    "### State Management & Accessors"
   ]
  },
  {
   "cell_type": "code",
   "execution_count": null,
   "id": "b966579f",
   "metadata": {},
   "outputs": [],
   "source": [
    "is_debugging: bool = False\n",
    "\n",
    "def is_debugging_now() -> bool:\n",
    "    global is_debugging\n",
    "    return is_debugging\n",
    "\n",
    "def is_not_debugging() -> bool:\n",
    "    return not is_debugging_now()\n",
    "\n",
    "def set_is_debugging(\n",
    "    value: bool\n",
    ") -> None:\n",
    "    global is_debugging\n",
    "    is_debugging = value"
   ]
  },
  {
   "cell_type": "code",
   "execution_count": null,
   "id": "150ca4d6",
   "metadata": {},
   "outputs": [],
   "source": [
    "output_location: str = '/tmp/output'\n",
    "\n",
    "def get_location_to_output() -> str:\n",
    "    global output_location\n",
    "    return output_location\n",
    "\n",
    "def set_location_to_output(\n",
    "    value: str\n",
    ") -> None:\n",
    "    global output_location\n",
    "    output_location = value"
   ]
  },
  {
   "cell_type": "code",
   "execution_count": null,
   "id": "ea0b36c8",
   "metadata": {},
   "outputs": [],
   "source": [
    "location_of_fonts: str = '/mnt/c/fonts'\n",
    "\n",
    "def get_location_of_fonts() -> str:\n",
    "    global location_of_fonts\n",
    "    return location_of_fonts\n",
    "\n",
    "def set_location_of_fonts(\n",
    "    value: str\n",
    ") -> None:\n",
    "    global location_of_fonts\n",
    "    location_of_fonts = value"
   ]
  },
  {
   "cell_type": "code",
   "execution_count": null,
   "id": "52ac56d1",
   "metadata": {},
   "outputs": [],
   "source": [
    "encoding: str = 'UTF-8'\n",
    "\n",
    "def get_encoding() -> str:\n",
    "    global encoding\n",
    "    return encoding\n",
    "\n",
    "def set_encoding(\n",
    "    value: str\n",
    ") -> None:\n",
    "    global encoding\n",
    "    encoding = value"
   ]
  },
  {
   "cell_type": "code",
   "execution_count": null,
   "id": "56988119",
   "metadata": {},
   "outputs": [],
   "source": [
    "width: int = 512\n",
    "\n",
    "def get_width() -> int:\n",
    "    global width\n",
    "    return width\n",
    "\n",
    "def set_width(\n",
    "    value: int\n",
    ") -> None:\n",
    "    global width\n",
    "    width = value"
   ]
  },
  {
   "cell_type": "code",
   "execution_count": null,
   "id": "009c323f",
   "metadata": {},
   "outputs": [],
   "source": [
    "height: int = 512\n",
    "\n",
    "def get_height() -> int:\n",
    "    global height\n",
    "    return height\n",
    "\n",
    "def set_height(\n",
    "    value: int\n",
    ") -> None:\n",
    "    global height\n",
    "    height = value"
   ]
  },
  {
   "cell_type": "code",
   "execution_count": null,
   "id": "7621bec5",
   "metadata": {},
   "outputs": [],
   "source": [
    "channels: str = 'RGB'\n",
    "\n",
    "def get_channels() -> str:\n",
    "    global channels\n",
    "    return channels\n",
    "\n",
    "def set_channels(\n",
    "    value: str\n",
    ") -> None:\n",
    "    global channels\n",
    "    channels = value"
   ]
  },
  {
   "cell_type": "code",
   "execution_count": null,
   "id": "c61862c0",
   "metadata": {},
   "outputs": [],
   "source": [
    "image: Image | None = None\n",
    "\n",
    "def get_image() -> Image:\n",
    "    global image\n",
    "    return image\n",
    "\n",
    "def set_image(\n",
    "    value: Image\n",
    ") -> None:\n",
    "    global image\n",
    "    image = value"
   ]
  },
  {
   "cell_type": "code",
   "execution_count": null,
   "id": "55082016",
   "metadata": {},
   "outputs": [],
   "source": [
    "generate_symbol: str = 'J'\n",
    "\n",
    "def get_symbol_to_generate() -> str:\n",
    "    global generate_symbol\n",
    "    return generate_symbol\n",
    "\n",
    "def set_symbol_to_generate(\n",
    "    value: str\n",
    ") -> None:\n",
    "    global generate_symbol\n",
    "    generate_symbol = value"
   ]
  },
  {
   "cell_type": "code",
   "execution_count": 3,
   "id": "c6a7475a",
   "metadata": {},
   "outputs": [],
   "source": [
    "batches: int = 125\n",
    "\n",
    "def get_batches() -> int:\n",
    "    global batches\n",
    "    return batches\n",
    "\n",
    "def set_batches(\n",
    "        variable: int\n",
    "    ) -> None:\n",
    "    global batches\n",
    "    batches = variable"
   ]
  },
  {
   "cell_type": "code",
   "execution_count": null,
   "id": "d2547b59",
   "metadata": {},
   "outputs": [],
   "source": [
    "found_fonts: list = list()\n",
    "size_of_found_fonts: int = 0\n",
    "last_index_of_found_founds: int = 0\n",
    "\n",
    "def get_size_of_found_fonts() -> int:\n",
    "    global size_of_found_fonts\n",
    "    return size_of_found_fonts\n",
    "\n",
    "def get_found_fonts() -> list:\n",
    "    global found_fonts\n",
    "    return found_fonts\n",
    "\n",
    "def get_last_index_of_found_fonts() -> int:\n",
    "    global last_index_of_found_founds\n",
    "    return last_index_of_found_founds"
   ]
  },
  {
   "cell_type": "code",
   "execution_count": null,
   "id": "eee865c6",
   "metadata": {},
   "outputs": [],
   "source": [
    "def generate_filename() -> str:\n",
    "    return str(time_ns()) + '.jpg'"
   ]
  },
  {
   "cell_type": "markdown",
   "id": "5a728c6d",
   "metadata": {},
   "source": [
    "### Select Random Values"
   ]
  },
  {
   "cell_type": "code",
   "execution_count": null,
   "id": "2621c654",
   "metadata": {},
   "outputs": [],
   "source": [
    "def select_random_value_in_color_range(\n",
    "    generator: SystemRandom\n",
    ") -> int:\n",
    "    return generator.randint(\n",
    "        0, \n",
    "        255\n",
    "    )\n",
    "\n",
    "def select_random_font() -> str:\n",
    "    global found, last_index_of_found\n",
    "    generator = SystemRandom()\n",
    "    \n",
    "    selection: int = generator.randint(\n",
    "        0, \n",
    "        last_index_of_found\n",
    "    )\n",
    "\n",
    "    return found[selection]\n",
    "\n",
    "\n",
    "def select_random_color() -> tuple:\n",
    "    generator = SystemRandom()\n",
    "    \n",
    "    red = select_random_value_in_color_range(\n",
    "        generator\n",
    "    )\n",
    "    \n",
    "    green = select_random_value_in_color_range(\n",
    "        generator\n",
    "    )\n",
    "\n",
    "    blue = select_random_value_in_color_range(\n",
    "        generator\n",
    "    )\n",
    "\n",
    "    return (\n",
    "        red, \n",
    "        green, \n",
    "        blue\n",
    "    )\n",
    "\n",
    "\n",
    "def select_random_font_size() -> int:\n",
    "    global height\n",
    "    generator = SystemRandom()\n",
    "    \n",
    "    return generator.randint(\n",
    "        12, \n",
    "        height\n",
    "    )\n",
    "\n",
    "def select_random_quality() -> int:\n",
    "    generator: SystemRandom = SystemRandom()\n",
    "    return generator.randint(\n",
    "        2, \n",
    "        85\n",
    "    )\n",
    "\n",
    "def start_of_index() -> int:\n",
    "    return 0\n",
    "\n",
    "def select_random_position_x() -> int:\n",
    "    global width\n",
    "    generator: SystemRandom =  SystemRandom()\n",
    "\n",
    "    begin: int = start_of_index()\n",
    "    end: int = width\n",
    "\n",
    "    return generator.randint(\n",
    "        begin, \n",
    "        end\n",
    "    )\n",
    "\n",
    "def select_random_position_y() -> int:\n",
    "    global height\n",
    "    generator: SystemRandom =  SystemRandom()\n",
    "\n",
    "    begin: int = start_of_index()\n",
    "    end: int = height\n",
    "\n",
    "    return generator.randint(\n",
    "        begin, \n",
    "        end\n",
    "    )\n",
    "\n",
    "def select_random_boolean() -> bool:\n",
    "    generator: SystemRandom = SystemRandom()\n",
    "    return bool(\n",
    "        generator.getrandbits(\n",
    "            1\n",
    "        )\n",
    "    )\n"
   ]
  },
  {
   "cell_type": "markdown",
   "id": "e7f1243c",
   "metadata": {},
   "source": [
    "### Generation & Procedures"
   ]
  },
  {
   "cell_type": "code",
   "execution_count": null,
   "id": "e575fb60",
   "metadata": {},
   "outputs": [],
   "source": [
    "def generate_random_image(\n",
    "    width: int, \n",
    "    height: int, \n",
    "    channel_mode: str\n",
    ") -> Image:\n",
    "    generator: SystemRandom = SystemRandom()\n",
    "    \n",
    "    image = new(\n",
    "        mode=channel_mode, \n",
    "        size=(\n",
    "            width, \n",
    "            height\n",
    "        )\n",
    "    )\n",
    "\n",
    "    pixels = image.load()\n",
    "\n",
    "    for x \\\n",
    "        in range(width):\n",
    "        for y \\\n",
    "            in range(height):\n",
    "            pixels[x, y] = (\n",
    "                select_random_value_in_color_range(\n",
    "                    generator\n",
    "                ),\n",
    "                select_random_value_in_color_range(\n",
    "                    generator\n",
    "                ),\n",
    "                select_random_value_in_color_range(\n",
    "                    generator\n",
    "                )\n",
    "            )\n",
    "\n",
    "    return image"
   ]
  },
  {
   "cell_type": "code",
   "execution_count": null,
   "id": "dc172712",
   "metadata": {},
   "outputs": [],
   "source": [
    "def update_entire(\n",
    "    image: Image\n",
    ") -> None:\n",
    "    global width, height\n",
    "    pixels = image.load()\n",
    "\n",
    "    for x in range(width):\n",
    "        for y in range(height):\n",
    "            pixels[x, y] = select_random_color()"
   ]
  },
  {
   "cell_type": "code",
   "execution_count": null,
   "id": "387c5b60",
   "metadata": {},
   "outputs": [],
   "source": [
    "def update_by_samples(\n",
    "    image: Image\n",
    ") -> None:\n",
    "    pixels = image.load()\n",
    "    generator: SystemRandom = SystemRandom()\n",
    "    \n",
    "    last_index_in_row: int = width - 1\n",
    "    last_index_in_column: int = height - 1\n",
    "\n",
    "    selection_of_samples: int = int((width * height)/4)\n",
    "\n",
    "    for i in range(selection_of_samples):\n",
    "        selected_x: int = generator.randint(\n",
    "            start_of_index(), \n",
    "            last_index_in_row\n",
    "        )\n",
    "        \n",
    "        selected_y: int = generator.randint(\n",
    "            start_of_index(), \n",
    "            last_index_in_column\n",
    "        )\n",
    "\n",
    "        pixels[selected_x, selected_y] = select_random_color()"
   ]
  },
  {
   "cell_type": "code",
   "execution_count": null,
   "id": "9d35c11e",
   "metadata": {},
   "outputs": [],
   "source": [
    "def update() -> None:\n",
    "    global image\n",
    "    \n",
    "    if select_random_boolean():\n",
    "        return update_by_samples(\n",
    "            image\n",
    "        )\n",
    "    \n",
    "    update_entire(\n",
    "        image\n",
    "    )"
   ]
  },
  {
   "cell_type": "code",
   "execution_count": null,
   "id": "b1b1edd6",
   "metadata": {},
   "outputs": [],
   "source": [
    "def clear():\n",
    "    global path\n",
    "    if not isdir(path):\n",
    "        mkdir(path)\n",
    "    else:\n",
    "        for file in listdir(path):\n",
    "            full = join(\n",
    "                path, \n",
    "                file\n",
    "            )\n",
    "            \n",
    "            if isfile(full):\n",
    "                remove(full)"
   ]
  },
  {
   "cell_type": "code",
   "execution_count": null,
   "id": "c73bb096",
   "metadata": {},
   "outputs": [],
   "source": [
    "image = generate_random_image(\n",
    "    width, \n",
    "    height, \n",
    "    channels\n",
    ")"
   ]
  },
  {
   "cell_type": "code",
   "execution_count": null,
   "id": "32418067",
   "metadata": {},
   "outputs": [],
   "source": [
    "if found is None or len(found) == start_of_index():\n",
    "    for root, directories, files in walk(location_of_fonts):\n",
    "        for file in files:\n",
    "            full_path: str = join(root, file)\n",
    "            found.append(full_path)\n",
    "\n",
    "    size_of_found: int = len(found)\n",
    "    last_index_of_found: int | None = (size_of_found - 1)"
   ]
  },
  {
   "cell_type": "markdown",
   "id": "d0749ac2",
   "metadata": {},
   "source": [
    "### Run the Process"
   ]
  },
  {
   "cell_type": "code",
   "execution_count": null,
   "id": "290bb4b2",
   "metadata": {},
   "outputs": [],
   "source": [
    "clear()\n",
    "\n",
    "for i in range(batches):\n",
    "    update()\n",
    "\n",
    "    current_mirror = image.copy()\n",
    "    context = ImageDraw.Draw(\n",
    "        current_mirror\n",
    "    )\n",
    "\n",
    "    selected_font: str = select_random_font()\n",
    "    selected_font_size: int = select_random_font_size()\n",
    "\n",
    "    position_x = select_random_position_x()\n",
    "    position_y = select_random_position_y()\n",
    "\n",
    "    message_to_generate: str = generate_letter\n",
    "\n",
    "    font_used = ImageFont.truetype(\n",
    "        selected_font, \n",
    "        size=selected_font_size,\n",
    "        encoding=get_encoding()\n",
    "    )\n",
    "\n",
    "    context.text(\n",
    "        (position_x, position_y), \n",
    "        message_to_generate, \n",
    "        font=font_used, \n",
    "        fill=select_random_color(),\n",
    "        align='center',\n",
    "        anchor='ms',\n",
    "        encoding=get_encoding(), \n",
    "        spacing=0.0\n",
    "    )\n",
    "    \n",
    "    if is_debugging_now():\n",
    "        display(current_mirror)\n",
    "        break\n",
    "    \n",
    "    if is_not_debugging():\n",
    "        full_path_to_save: str = join(\n",
    "            path, \n",
    "            generate_filename()\n",
    "        )\n",
    "\n",
    "        current_mirror.save(\n",
    "            full_path_to_save, \n",
    "            quality=select_random_quality()\n",
    "        )\n",
    "\n",
    "del current_mirror"
   ]
  }
 ],
 "metadata": {
  "kernelspec": {
   "display_name": "Python 3 (ipykernel)",
   "language": "python",
   "name": "python3"
  },
  "language_info": {
   "codemirror_mode": {
    "name": "ipython",
    "version": 3
   },
   "file_extension": ".py",
   "mimetype": "text/x-python",
   "name": "python",
   "nbconvert_exporter": "python",
   "pygments_lexer": "ipython3",
   "version": "3.11.0rc1"
  }
 },
 "nbformat": 4,
 "nbformat_minor": 5
}
