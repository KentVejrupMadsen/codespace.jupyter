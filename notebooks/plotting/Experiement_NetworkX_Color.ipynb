{
 "cells": [
  {
   "cell_type": "markdown",
   "id": "2a610780",
   "metadata": {},
   "source": [
    "# Generate NetworkX Graph with colored nodes"
   ]
  },
  {
   "cell_type": "code",
   "execution_count": 36,
   "metadata": {},
   "outputs": [
    {
     "name": "stdout",
     "output_type": "stream",
     "text": [
      "Requirement already satisfied: networkx in ./.environment/lib/python3.10/site-packages (3.1)\n",
      "Note: you may need to restart the kernel to use updated packages.\n",
      "Requirement already satisfied: matplotlib in ./.environment/lib/python3.10/site-packages (3.7.2)\n",
      "Requirement already satisfied: contourpy>=1.0.1 in ./.environment/lib/python3.10/site-packages (from matplotlib) (1.1.0)\n",
      "Requirement already satisfied: cycler>=0.10 in ./.environment/lib/python3.10/site-packages (from matplotlib) (0.11.0)\n",
      "Requirement already satisfied: fonttools>=4.22.0 in ./.environment/lib/python3.10/site-packages (from matplotlib) (4.40.0)\n",
      "Requirement already satisfied: kiwisolver>=1.0.1 in ./.environment/lib/python3.10/site-packages (from matplotlib) (1.4.4)\n",
      "Requirement already satisfied: numpy>=1.20 in ./.environment/lib/python3.10/site-packages (from matplotlib) (1.24.3)\n",
      "Requirement already satisfied: packaging>=20.0 in ./.environment/lib/python3.10/site-packages (from matplotlib) (23.1)\n",
      "Requirement already satisfied: pillow>=6.2.0 in ./.environment/lib/python3.10/site-packages (from matplotlib) (10.0.0)\n",
      "Requirement already satisfied: pyparsing<3.1,>=2.3.1 in ./.environment/lib/python3.10/site-packages (from matplotlib) (3.0.9)\n",
      "Requirement already satisfied: python-dateutil>=2.7 in ./.environment/lib/python3.10/site-packages (from matplotlib) (2.8.2)\n",
      "Requirement already satisfied: six>=1.5 in ./.environment/lib/python3.10/site-packages (from python-dateutil>=2.7->matplotlib) (1.16.0)\n",
      "Note: you may need to restart the kernel to use updated packages.\n",
      "Requirement already satisfied: ipympl in ./.environment/lib/python3.10/site-packages (0.9.3)\n",
      "Requirement already satisfied: ipython<9 in ./.environment/lib/python3.10/site-packages (from ipympl) (8.14.0)\n",
      "Requirement already satisfied: numpy in ./.environment/lib/python3.10/site-packages (from ipympl) (1.24.3)\n",
      "Requirement already satisfied: ipython-genutils in ./.environment/lib/python3.10/site-packages (from ipympl) (0.2.0)\n",
      "Requirement already satisfied: pillow in ./.environment/lib/python3.10/site-packages (from ipympl) (10.0.0)\n",
      "Requirement already satisfied: traitlets<6 in ./.environment/lib/python3.10/site-packages (from ipympl) (5.9.0)\n",
      "Requirement already satisfied: ipywidgets<9,>=7.6.0 in ./.environment/lib/python3.10/site-packages (from ipympl) (8.0.7)\n",
      "Requirement already satisfied: matplotlib<4,>=3.4.0 in ./.environment/lib/python3.10/site-packages (from ipympl) (3.7.2)\n",
      "Requirement already satisfied: backcall in ./.environment/lib/python3.10/site-packages (from ipython<9->ipympl) (0.2.0)\n",
      "Requirement already satisfied: decorator in ./.environment/lib/python3.10/site-packages (from ipython<9->ipympl) (5.1.1)\n",
      "Requirement already satisfied: jedi>=0.16 in ./.environment/lib/python3.10/site-packages (from ipython<9->ipympl) (0.18.2)\n",
      "Requirement already satisfied: matplotlib-inline in ./.environment/lib/python3.10/site-packages (from ipython<9->ipympl) (0.1.6)\n",
      "Requirement already satisfied: pickleshare in ./.environment/lib/python3.10/site-packages (from ipython<9->ipympl) (0.7.5)\n",
      "Requirement already satisfied: prompt-toolkit!=3.0.37,<3.1.0,>=3.0.30 in ./.environment/lib/python3.10/site-packages (from ipython<9->ipympl) (3.0.39)\n",
      "Requirement already satisfied: pygments>=2.4.0 in ./.environment/lib/python3.10/site-packages (from ipython<9->ipympl) (2.15.1)\n",
      "Requirement already satisfied: stack-data in ./.environment/lib/python3.10/site-packages (from ipython<9->ipympl) (0.6.2)\n",
      "Requirement already satisfied: pexpect>4.3 in ./.environment/lib/python3.10/site-packages (from ipython<9->ipympl) (4.8.0)\n",
      "Requirement already satisfied: ipykernel>=4.5.1 in ./.environment/lib/python3.10/site-packages (from ipywidgets<9,>=7.6.0->ipympl) (6.24.0)\n",
      "Requirement already satisfied: widgetsnbextension~=4.0.7 in ./.environment/lib/python3.10/site-packages (from ipywidgets<9,>=7.6.0->ipympl) (4.0.8)\n",
      "Requirement already satisfied: jupyterlab-widgets~=3.0.7 in ./.environment/lib/python3.10/site-packages (from ipywidgets<9,>=7.6.0->ipympl) (3.0.8)\n",
      "Requirement already satisfied: contourpy>=1.0.1 in ./.environment/lib/python3.10/site-packages (from matplotlib<4,>=3.4.0->ipympl) (1.1.0)\n",
      "Requirement already satisfied: cycler>=0.10 in ./.environment/lib/python3.10/site-packages (from matplotlib<4,>=3.4.0->ipympl) (0.11.0)\n",
      "Requirement already satisfied: fonttools>=4.22.0 in ./.environment/lib/python3.10/site-packages (from matplotlib<4,>=3.4.0->ipympl) (4.40.0)\n",
      "Requirement already satisfied: kiwisolver>=1.0.1 in ./.environment/lib/python3.10/site-packages (from matplotlib<4,>=3.4.0->ipympl) (1.4.4)\n",
      "Requirement already satisfied: packaging>=20.0 in ./.environment/lib/python3.10/site-packages (from matplotlib<4,>=3.4.0->ipympl) (23.1)\n",
      "Requirement already satisfied: pyparsing<3.1,>=2.3.1 in ./.environment/lib/python3.10/site-packages (from matplotlib<4,>=3.4.0->ipympl) (3.0.9)\n",
      "Requirement already satisfied: python-dateutil>=2.7 in ./.environment/lib/python3.10/site-packages (from matplotlib<4,>=3.4.0->ipympl) (2.8.2)\n",
      "Requirement already satisfied: comm>=0.1.1 in ./.environment/lib/python3.10/site-packages (from ipykernel>=4.5.1->ipywidgets<9,>=7.6.0->ipympl) (0.1.3)\n",
      "Requirement already satisfied: debugpy>=1.6.5 in ./.environment/lib/python3.10/site-packages (from ipykernel>=4.5.1->ipywidgets<9,>=7.6.0->ipympl) (1.6.7)\n",
      "Requirement already satisfied: jupyter-client>=6.1.12 in ./.environment/lib/python3.10/site-packages (from ipykernel>=4.5.1->ipywidgets<9,>=7.6.0->ipympl) (7.4.1)\n",
      "Requirement already satisfied: jupyter-core!=5.0.*,>=4.12 in ./.environment/lib/python3.10/site-packages (from ipykernel>=4.5.1->ipywidgets<9,>=7.6.0->ipympl) (5.3.1)\n",
      "Requirement already satisfied: nest-asyncio in ./.environment/lib/python3.10/site-packages (from ipykernel>=4.5.1->ipywidgets<9,>=7.6.0->ipympl) (1.5.6)\n",
      "Requirement already satisfied: psutil in ./.environment/lib/python3.10/site-packages (from ipykernel>=4.5.1->ipywidgets<9,>=7.6.0->ipympl) (5.9.5)\n",
      "Requirement already satisfied: pyzmq>=20 in ./.environment/lib/python3.10/site-packages (from ipykernel>=4.5.1->ipywidgets<9,>=7.6.0->ipympl) (25.1.0)\n",
      "Requirement already satisfied: tornado>=6.1 in ./.environment/lib/python3.10/site-packages (from ipykernel>=4.5.1->ipywidgets<9,>=7.6.0->ipympl) (6.3.2)\n",
      "Requirement already satisfied: parso<0.9.0,>=0.8.0 in ./.environment/lib/python3.10/site-packages (from jedi>=0.16->ipython<9->ipympl) (0.8.3)\n",
      "Requirement already satisfied: ptyprocess>=0.5 in ./.environment/lib/python3.10/site-packages (from pexpect>4.3->ipython<9->ipympl) (0.7.0)\n",
      "Requirement already satisfied: wcwidth in ./.environment/lib/python3.10/site-packages (from prompt-toolkit!=3.0.37,<3.1.0,>=3.0.30->ipython<9->ipympl) (0.2.6)\n",
      "Requirement already satisfied: six>=1.5 in ./.environment/lib/python3.10/site-packages (from python-dateutil>=2.7->matplotlib<4,>=3.4.0->ipympl) (1.16.0)\n",
      "Requirement already satisfied: executing>=1.2.0 in ./.environment/lib/python3.10/site-packages (from stack-data->ipython<9->ipympl) (1.2.0)\n",
      "Requirement already satisfied: asttokens>=2.1.0 in ./.environment/lib/python3.10/site-packages (from stack-data->ipython<9->ipympl) (2.2.1)\n",
      "Requirement already satisfied: pure-eval in ./.environment/lib/python3.10/site-packages (from stack-data->ipython<9->ipympl) (0.2.2)\n",
      "Requirement already satisfied: entrypoints in ./.environment/lib/python3.10/site-packages (from jupyter-client>=6.1.12->ipykernel>=4.5.1->ipywidgets<9,>=7.6.0->ipympl) (0.4)\n",
      "Requirement already satisfied: platformdirs>=2.5 in ./.environment/lib/python3.10/site-packages (from jupyter-core!=5.0.*,>=4.12->ipykernel>=4.5.1->ipywidgets<9,>=7.6.0->ipympl) (3.8.1)\n",
      "Note: you may need to restart the kernel to use updated packages.\n"
     ]
    }
   ],
   "source": [
    "%pip install networkx\n",
    "%pip install matplotlib\n",
    "%pip install ipympl"
   ]
  },
  {
   "cell_type": "code",
   "execution_count": 55,
   "id": "62824e73",
   "metadata": {},
   "outputs": [],
   "source": [
    "import networkx\n",
    "from networkx import Graph\n",
    "from matplotlib import pyplot as Plot\n",
    "\n",
    "%matplotlib ipympl\n",
    "\n",
    "Plot.cla()\n",
    "Plot.clf()\n",
    "\n",
    "graph = Graph()\n",
    "\n",
    "def add_node(\n",
    "    index: int\n",
    "):\n",
    "    global graph\n",
    "    graph.add_node(index)\n",
    "\n",
    "def add_nodes(\n",
    "        indexes_and_attributes: list\n",
    "):\n",
    "    global graph\n",
    "\n",
    "    graph.add_nodes_from(\n",
    "        indexes_and_attributes\n",
    "    )\n",
    "\n",
    "add_node(index=1)\n",
    "add_node(index=2)"
   ]
  },
  {
   "cell_type": "code",
   "execution_count": 56,
   "id": "8122fc66",
   "metadata": {},
   "outputs": [],
   "source": [
    "def generate_color_map(graph) -> list:\n",
    "    return_value: list = list()\n",
    "\n",
    "    for node in graph:\n",
    "        if node % 2 == 0:\n",
    "            return_value.append('green')\n",
    "        else:\n",
    "            return_value.append('red')        \n",
    "\n",
    "    return return_value"
   ]
  },
  {
   "cell_type": "code",
   "execution_count": 57,
   "id": "c6044476",
   "metadata": {},
   "outputs": [
    {
     "data": {
      "application/vnd.jupyter.widget-view+json": {
       "model_id": "5aa4e7113150472a8114a59d139a4c30",
       "version_major": 2,
       "version_minor": 0
      },
      "image/png": "[encoded data removed]",
      "text/html": [
       "\n",
       "            <div style=\"display: inline-block;\">\n",
       "                <div class=\"jupyter-widgets widget-label\" style=\"text-align: center;\">\n",
       "                    Figure 1\n",
       "                </div>\n",
       "                <img src='data:image/png;base64,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' width=640.0/>\n",
       "            </div>\n",
       "        "
      ],
      "text/plain": [
       "Canvas(toolbar=Toolbar(toolitems=[('Home', 'Reset original view', 'home', 'home'), ('Back', 'Back to previous …"
      ]
     },
     "metadata": {},
     "output_type": "display_data"
    }
   ],
   "source": [
    "networkx.draw(\n",
    "    graph, \n",
    "    with_labels=True,\n",
    "    node_color=generate_color_map(\n",
    "        graph\n",
    "    ),\n",
    "    font_weight='bold'\n",
    ")\n",
    "\n",
    "Plot.show()"
   ]
  }
 ],
 "metadata": {
  "kernelspec": {
   "display_name": "Python 3 (ipykernel)",
   "language": "python",
   "name": "python3"
  }
 },
 "nbformat": 4,
 "nbformat_minor": 5
}
