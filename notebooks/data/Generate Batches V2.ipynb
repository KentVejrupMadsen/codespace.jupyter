{
 "cells": [
  {
   "cell_type": "markdown",
   "id": "ea6629d8",
   "metadata": {},
   "source": [
    "# Notebook Dashboard"
   ]
  },
  {
   "cell_type": "code",
   "execution_count": 2,
   "metadata": {},
   "outputs": [],
   "source": [
    "from PIL.Image import new, Image, open\n",
    "from random import SystemRandom\n",
    "from HardenedSteel.objects import CounterObject\n",
    "from IPython.display import display\n",
    "from PIL import ImageDraw, ImageFont\n",
    "from os import walk\n",
    "from os.path import join\n",
    "from time import time_ns"
   ]
  },
  {
   "cell_type": "code",
   "execution_count": 3,
   "id": "473caab7",
   "metadata": {},
   "outputs": [],
   "source": [
    "retrieve_counter: CounterObject = CounterObject()\n",
    "\n",
    "width: int = 512\n",
    "height: int = 512\n",
    "\n",
    "background: Image = new(\n",
    "    mode='RGB', \n",
    "    size=(width, height), \n",
    "    color='white'\n",
    ")"
   ]
  },
  {
   "cell_type": "code",
   "execution_count": 4,
   "id": "6897956a",
   "metadata": {},
   "outputs": [],
   "source": [
    "def generate_new_random_background() -> Image:\n",
    "    global background, width, height\n",
    "\n",
    "    background = new(\n",
    "        mode='RGB', \n",
    "        size=(width, height), \n",
    "        color='white'\n",
    "    )\n",
    "    \n",
    "    generator: SystemRandom = SystemRandom()\n",
    "\n",
    "    pixels = background.load()\n",
    "\n",
    "    for x in range(width):\n",
    "        for y in range(height):\n",
    "            red, green, blue = pixels[x, y]\n",
    "\n",
    "            red: int = generator.randint(0, 255)\n",
    "            green: int = generator.randint(0, 255)\n",
    "            blue: int = generator.randint(0, 255)\n",
    "\n",
    "            pixels[x, y] = (\n",
    "                red, \n",
    "                green, \n",
    "                blue\n",
    "            )\n",
    "\n",
    "    return background\n",
    "\n",
    "generate_new_random_background()\n",
    "\n",
    "def get_background() -> Image:\n",
    "    global background, retrieve_counter\n",
    "    retrieve_counter.increment()\n",
    "\n",
    "    if int(retrieve_counter) == 1:\n",
    "        retrieve_counter.reset()\n",
    "        generate_new_random_background()\n",
    "\n",
    "    return background\n",
    "\n",
    "def generate_canvas() -> Image:\n",
    "    return get_background().copy()"
   ]
  },
  {
   "cell_type": "code",
   "execution_count": 5,
   "id": "738a8a93",
   "metadata": {},
   "outputs": [],
   "source": [
    "fonts_found: list = list()\n",
    "\n",
    "def is_font(filename: str) -> bool:\n",
    "    splitted_at = filename.split('.')\n",
    "    last_index = len(splitted_at) - 1\n",
    "    return splitted_at[last_index] == 'ttf'"
   ]
  },
  {
   "cell_type": "code",
   "execution_count": 6,
   "id": "2afcb355",
   "metadata": {},
   "outputs": [],
   "source": [
    "if fonts_found is None:\n",
    "    fonts_found = list()\n",
    "\n",
    "if len(fonts_found) == 0:\n",
    "    for root, directories, files in walk(\n",
    "        '/mnt/c/Windows/Fonts', \n",
    "        topdown=False\n",
    "    ):\n",
    "        for file in files:\n",
    "            full_path: str = join(root, file)\n",
    "\n",
    "            if is_font(file):\n",
    "                fonts_found.append(full_path)"
   ]
  },
  {
   "cell_type": "code",
   "execution_count": 7,
   "id": "93a8a1ea",
   "metadata": {},
   "outputs": [],
   "source": [
    "def select_random_font() -> str:\n",
    "    global fonts_found\n",
    "    generator: SystemRandom = SystemRandom()\n",
    "    last_index: int = len(fonts_found) - 1\n",
    "    return fonts_found[generator.randint(0, last_index)]"
   ]
  },
  {
   "cell_type": "code",
   "execution_count": 24,
   "id": "bf84ac29",
   "metadata": {},
   "outputs": [],
   "source": [
    "number_of_batches: int = 1500\n",
    "text: str = 'F'\n",
    "save_at: str = '/tmp/output/'\n",
    "\n",
    "width_margin: int = 125\n",
    "height_margin: int = 125"
   ]
  },
  {
   "cell_type": "code",
   "execution_count": 25,
   "id": "806d4240",
   "metadata": {},
   "outputs": [],
   "source": [
    "selected_image: Image | None = None\n",
    "font_max_size: int = height + 256\n",
    "\n",
    "for i in range(number_of_batches):\n",
    "    save_as: str = join(save_at, str(str(time_ns()) + '.jpg'))\n",
    "    generator: SystemRandom = SystemRandom()\n",
    "\n",
    "    font_size: int = generator.randint(\n",
    "        32, \n",
    "        font_max_size\n",
    "    )\n",
    "\n",
    "    selected_image: Image = generate_canvas()\n",
    "    font = ImageFont.truetype(\n",
    "        select_random_font(), \n",
    "        font_size, \n",
    "        encoding='UTF-8'\n",
    "    )\n",
    "\n",
    "    context = ImageDraw.Draw(selected_image)\n",
    "    \n",
    "    position_x: int = generator.randint(\n",
    "        (64 - width_margin), \n",
    "        (256 + width_margin)\n",
    "    )\n",
    "    \n",
    "    position_y: int = generator.randint(\n",
    "        (64 - height_margin), \n",
    "        (256 + height_margin)\n",
    "    )\n",
    "\n",
    "\n",
    "    font_color: tuple = (\n",
    "        generator.randint(0, 255), \n",
    "        generator.randint(0, 255), \n",
    "        generator.randint(0, 255)\n",
    "    )\n",
    "\n",
    "    context.text(\n",
    "        (position_x, position_y), \n",
    "        text, \n",
    "        font=font, \n",
    "        fill=font_color,\n",
    "        align='center',\n",
    "        spacing=0\n",
    "    )\n",
    "\n",
    "    save_quality: int = generator.randint(1, 100)\n",
    "    \n",
    "    selected_image.save(\n",
    "        save_as,\n",
    "        subsamling=generator.randint(0, 1),\n",
    "        quality=save_quality\n",
    "    )"
   ]
  }
 ],
 "metadata": {
  "kernelspec": {
   "display_name": "Python 3 (ipykernel)",
   "language": "python",
   "name": "python3"
  },
  "language_info": {
   "codemirror_mode": {
    "name": "ipython",
    "version": 3
   },
   "file_extension": ".py",
   "mimetype": "text/x-python",
   "name": "python",
   "nbconvert_exporter": "python",
   "pygments_lexer": "ipython3",
   "version": "3.10.6"
  }
 },
 "nbformat": 4,
 "nbformat_minor": 5
}
