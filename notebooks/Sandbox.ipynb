{
 "cells": [
  {
   "attachments": {},
   "cell_type": "markdown",
   "id": "b3c04bbb",
   "metadata": {},
   "source": [
    "# Sandbox\n",
    "For my ideas"
   ]
  },
  {
   "cell_type": "code",
   "execution_count": 11,
   "id": "eb7309d2",
   "metadata": {},
   "outputs": [
    {
     "name": "stdout",
     "output_type": "stream",
     "text": [
      "Requirement already satisfied: numpy in ./.environment/lib/python3.10/site-packages (from -r workspace/requirements.txt (line 1)) (1.24.3)\n",
      "Requirement already satisfied: pillow in ./.environment/lib/python3.10/site-packages (from -r workspace/requirements.txt (line 2)) (10.0.0)\n",
      "Requirement already satisfied: matplotlib in ./.environment/lib/python3.10/site-packages (from -r workspace/requirements.txt (line 3)) (3.7.2)\n",
      "Requirement already satisfied: requests in ./.environment/lib/python3.10/site-packages (from -r workspace/requirements.txt (line 4)) (2.31.0)\n",
      "Requirement already satisfied: pywikibot in ./.environment/lib/python3.10/site-packages (from -r workspace/requirements.txt (line 5)) (8.2.0)\n",
      "Requirement already satisfied: hardened-steel in ./.environment/lib/python3.10/site-packages (from -r workspace/requirements.txt (line 6)) (0.0.10)\n",
      "Requirement already satisfied: plotly in ./.environment/lib/python3.10/site-packages (from -r workspace/requirements.txt (line 7)) (5.15.0)\n",
      "Requirement already satisfied: tensorflow in ./.environment/lib/python3.10/site-packages (from -r workspace/requirements.txt (line 9)) (2.13.0)\n",
      "Requirement already satisfied: keras in ./.environment/lib/python3.10/site-packages (from -r workspace/requirements.txt (line 10)) (2.13.1)\n",
      "Requirement already satisfied: contourpy>=1.0.1 in ./.environment/lib/python3.10/site-packages (from matplotlib->-r workspace/requirements.txt (line 3)) (1.1.0)\n",
      "Requirement already satisfied: cycler>=0.10 in ./.environment/lib/python3.10/site-packages (from matplotlib->-r workspace/requirements.txt (line 3)) (0.11.0)\n",
      "Requirement already satisfied: fonttools>=4.22.0 in ./.environment/lib/python3.10/site-packages (from matplotlib->-r workspace/requirements.txt (line 3)) (4.40.0)\n",
      "Requirement already satisfied: kiwisolver>=1.0.1 in ./.environment/lib/python3.10/site-packages (from matplotlib->-r workspace/requirements.txt (line 3)) (1.4.4)\n",
      "Requirement already satisfied: packaging>=20.0 in ./.environment/lib/python3.10/site-packages (from matplotlib->-r workspace/requirements.txt (line 3)) (23.1)\n",
      "Requirement already satisfied: pyparsing<3.1,>=2.3.1 in ./.environment/lib/python3.10/site-packages (from matplotlib->-r workspace/requirements.txt (line 3)) (3.0.9)\n",
      "Requirement already satisfied: python-dateutil>=2.7 in ./.environment/lib/python3.10/site-packages (from matplotlib->-r workspace/requirements.txt (line 3)) (2.8.2)\n",
      "Requirement already satisfied: charset-normalizer<4,>=2 in ./.environment/lib/python3.10/site-packages (from requests->-r workspace/requirements.txt (line 4)) (3.2.0)\n",
      "Requirement already satisfied: idna<4,>=2.5 in ./.environment/lib/python3.10/site-packages (from requests->-r workspace/requirements.txt (line 4)) (3.4)\n",
      "Requirement already satisfied: urllib3<3,>=1.21.1 in ./.environment/lib/python3.10/site-packages (from requests->-r workspace/requirements.txt (line 4)) (1.26.16)\n",
      "Requirement already satisfied: certifi>=2017.4.17 in ./.environment/lib/python3.10/site-packages (from requests->-r workspace/requirements.txt (line 4)) (2023.5.7)\n",
      "Requirement already satisfied: mwparserfromhell>=0.5.2 in ./.environment/lib/python3.10/site-packages (from pywikibot->-r workspace/requirements.txt (line 5)) (0.6.4)\n",
      "Requirement already satisfied: setuptools>=48.0.0 in ./.environment/lib/python3.10/site-packages (from pywikibot->-r workspace/requirements.txt (line 5)) (59.6.0)\n",
      "Requirement already satisfied: tenacity>=6.2.0 in ./.environment/lib/python3.10/site-packages (from plotly->-r workspace/requirements.txt (line 7)) (8.2.2)\n",
      "Requirement already satisfied: absl-py>=1.0.0 in ./.environment/lib/python3.10/site-packages (from tensorflow->-r workspace/requirements.txt (line 9)) (1.4.0)\n",
      "Requirement already satisfied: astunparse>=1.6.0 in ./.environment/lib/python3.10/site-packages (from tensorflow->-r workspace/requirements.txt (line 9)) (1.6.3)\n",
      "Requirement already satisfied: flatbuffers>=23.1.21 in ./.environment/lib/python3.10/site-packages (from tensorflow->-r workspace/requirements.txt (line 9)) (23.5.26)\n",
      "Requirement already satisfied: gast<=0.4.0,>=0.2.1 in ./.environment/lib/python3.10/site-packages (from tensorflow->-r workspace/requirements.txt (line 9)) (0.4.0)\n",
      "Requirement already satisfied: google-pasta>=0.1.1 in ./.environment/lib/python3.10/site-packages (from tensorflow->-r workspace/requirements.txt (line 9)) (0.2.0)\n",
      "Requirement already satisfied: grpcio<2.0,>=1.24.3 in ./.environment/lib/python3.10/site-packages (from tensorflow->-r workspace/requirements.txt (line 9)) (1.56.0)\n",
      "Requirement already satisfied: h5py>=2.9.0 in ./.environment/lib/python3.10/site-packages (from tensorflow->-r workspace/requirements.txt (line 9)) (3.9.0)\n",
      "Requirement already satisfied: libclang>=13.0.0 in ./.environment/lib/python3.10/site-packages (from tensorflow->-r workspace/requirements.txt (line 9)) (16.0.0)\n",
      "Requirement already satisfied: opt-einsum>=2.3.2 in ./.environment/lib/python3.10/site-packages (from tensorflow->-r workspace/requirements.txt (line 9)) (3.3.0)\n",
      "Requirement already satisfied: protobuf!=4.21.0,!=4.21.1,!=4.21.2,!=4.21.3,!=4.21.4,!=4.21.5,<5.0.0dev,>=3.20.3 in ./.environment/lib/python3.10/site-packages (from tensorflow->-r workspace/requirements.txt (line 9)) (4.23.4)\n",
      "Requirement already satisfied: six>=1.12.0 in ./.environment/lib/python3.10/site-packages (from tensorflow->-r workspace/requirements.txt (line 9)) (1.16.0)\n",
      "Requirement already satisfied: tensorboard<2.14,>=2.13 in ./.environment/lib/python3.10/site-packages (from tensorflow->-r workspace/requirements.txt (line 9)) (2.13.0)\n",
      "Requirement already satisfied: tensorflow-estimator<2.14,>=2.13.0 in ./.environment/lib/python3.10/site-packages (from tensorflow->-r workspace/requirements.txt (line 9)) (2.13.0)\n",
      "Requirement already satisfied: termcolor>=1.1.0 in ./.environment/lib/python3.10/site-packages (from tensorflow->-r workspace/requirements.txt (line 9)) (2.3.0)\n",
      "Requirement already satisfied: typing-extensions<4.6.0,>=3.6.6 in ./.environment/lib/python3.10/site-packages (from tensorflow->-r workspace/requirements.txt (line 9)) (4.5.0)\n",
      "Requirement already satisfied: wrapt>=1.11.0 in ./.environment/lib/python3.10/site-packages (from tensorflow->-r workspace/requirements.txt (line 9)) (1.15.0)\n",
      "Requirement already satisfied: tensorflow-io-gcs-filesystem>=0.23.1 in ./.environment/lib/python3.10/site-packages (from tensorflow->-r workspace/requirements.txt (line 9)) (0.32.0)\n",
      "Requirement already satisfied: wheel<1.0,>=0.23.0 in ./.environment/lib/python3.10/site-packages (from astunparse>=1.6.0->tensorflow->-r workspace/requirements.txt (line 9)) (0.40.0)\n",
      "Requirement already satisfied: google-auth<3,>=1.6.3 in ./.environment/lib/python3.10/site-packages (from tensorboard<2.14,>=2.13->tensorflow->-r workspace/requirements.txt (line 9)) (2.22.0)\n",
      "Requirement already satisfied: google-auth-oauthlib<1.1,>=0.5 in ./.environment/lib/python3.10/site-packages (from tensorboard<2.14,>=2.13->tensorflow->-r workspace/requirements.txt (line 9)) (1.0.0)\n",
      "Requirement already satisfied: markdown>=2.6.8 in ./.environment/lib/python3.10/site-packages (from tensorboard<2.14,>=2.13->tensorflow->-r workspace/requirements.txt (line 9)) (3.4.3)\n",
      "Requirement already satisfied: tensorboard-data-server<0.8.0,>=0.7.0 in ./.environment/lib/python3.10/site-packages (from tensorboard<2.14,>=2.13->tensorflow->-r workspace/requirements.txt (line 9)) (0.7.1)\n",
      "Requirement already satisfied: werkzeug>=1.0.1 in ./.environment/lib/python3.10/site-packages (from tensorboard<2.14,>=2.13->tensorflow->-r workspace/requirements.txt (line 9)) (2.3.6)\n",
      "Requirement already satisfied: cachetools<6.0,>=2.0.0 in ./.environment/lib/python3.10/site-packages (from google-auth<3,>=1.6.3->tensorboard<2.14,>=2.13->tensorflow->-r workspace/requirements.txt (line 9)) (5.3.1)\n",
      "Requirement already satisfied: pyasn1-modules>=0.2.1 in ./.environment/lib/python3.10/site-packages (from google-auth<3,>=1.6.3->tensorboard<2.14,>=2.13->tensorflow->-r workspace/requirements.txt (line 9)) (0.3.0)\n",
      "Requirement already satisfied: rsa<5,>=3.1.4 in ./.environment/lib/python3.10/site-packages (from google-auth<3,>=1.6.3->tensorboard<2.14,>=2.13->tensorflow->-r workspace/requirements.txt (line 9)) (4.9)\n",
      "Requirement already satisfied: requests-oauthlib>=0.7.0 in ./.environment/lib/python3.10/site-packages (from google-auth-oauthlib<1.1,>=0.5->tensorboard<2.14,>=2.13->tensorflow->-r workspace/requirements.txt (line 9)) (1.3.1)\n",
      "Requirement already satisfied: MarkupSafe>=2.1.1 in ./.environment/lib/python3.10/site-packages (from werkzeug>=1.0.1->tensorboard<2.14,>=2.13->tensorflow->-r workspace/requirements.txt (line 9)) (2.1.3)\n",
      "Requirement already satisfied: pyasn1<0.6.0,>=0.4.6 in ./.environment/lib/python3.10/site-packages (from pyasn1-modules>=0.2.1->google-auth<3,>=1.6.3->tensorboard<2.14,>=2.13->tensorflow->-r workspace/requirements.txt (line 9)) (0.5.0)\n",
      "Requirement already satisfied: oauthlib>=3.0.0 in ./.environment/lib/python3.10/site-packages (from requests-oauthlib>=0.7.0->google-auth-oauthlib<1.1,>=0.5->tensorboard<2.14,>=2.13->tensorflow->-r workspace/requirements.txt (line 9)) (3.2.2)\n"
     ]
    }
   ],
   "source": [
    "!pip install -r workspace/requirements.txt"
   ]
  },
  {
   "cell_type": "code",
   "execution_count": 20,
   "id": "0d59ed86",
   "metadata": {},
   "outputs": [],
   "source": [
    "from HardenedSteel.objects \\\n",
    "    import CounterObject"
   ]
  },
  {
   "cell_type": "code",
   "execution_count": 26,
   "id": "1e695d9f",
   "metadata": {},
   "outputs": [],
   "source": [
    "red: CounterObject = CounterObject(\n",
    "    start_value=0\n",
    ")\n",
    "\n",
    "green: CounterObject = CounterObject(\n",
    "    start_value=0\n",
    ")\n",
    "\n",
    "blue: CounterObject = CounterObject(\n",
    "    start_value=0\n",
    ")\n",
    "\n",
    "def get_red_counter() -> CounterObject:\n",
    "    global red\n",
    "    return red\n",
    "\n",
    "def get_green_counter() -> CounterObject:\n",
    "    global green\n",
    "    return green\n",
    "\n",
    "def get_blue_counter() -> CounterObject:\n",
    "    global blue\n",
    "    return blue\n",
    "\n",
    "def get_red() -> int:\n",
    "    return int(\n",
    "        get_red_counter()\n",
    "    )\n",
    "\n",
    "def get_green() -> int:\n",
    "    return int(\n",
    "        get_green_counter()\n",
    "    )\n",
    "\n",
    "def get_blue() -> int:\n",
    "    return int(\n",
    "        get_blue_counter()\n",
    "    )\n",
    "\n",
    "def get_pixel_color() -> tuple:\n",
    "    return(\n",
    "        get_red(), \n",
    "        get_green(), \n",
    "        get_blue()\n",
    "    )\n",
    "\n",
    "def red_is_at_end() -> bool:\n",
    "    return get_red() == 255\n",
    "\n",
    "def green_is_at_end() -> bool:\n",
    "    return get_green() == 255\n",
    "\n",
    "def blue_is_at_end() -> bool:\n",
    "    return get_blue() == 255\n",
    "\n",
    "\n",
    "def red_is_at_beginning() -> bool:\n",
    "    return get_red() == 0\n",
    "\n",
    "def green_is_at_beginning() -> bool:\n",
    "    return get_green() == 0\n",
    "\n",
    "def blue_is_at_beginning() -> bool:\n",
    "    return get_blue() == 0"
   ]
  },
  {
   "cell_type": "code",
   "execution_count": 24,
   "id": "b58b4002",
   "metadata": {},
   "outputs": [
    {
     "name": "stdout",
     "output_type": "stream",
     "text": [
      "()\n"
     ]
    }
   ],
   "source": []
  }
 ],
 "metadata": {
  "kernelspec": {
   "display_name": "Python 3 (ipykernel)",
   "language": "python",
   "name": "python3"
  },
  "language_info": {
   "codemirror_mode": {
    "name": "ipython",
    "version": 3
   },
   "file_extension": ".py",
   "mimetype": "text/x-python",
   "name": "python",
   "nbconvert_exporter": "python",
   "pygments_lexer": "ipython3",
   "version": "3.10.6"
  }
 },
 "nbformat": 4,
 "nbformat_minor": 5
}
