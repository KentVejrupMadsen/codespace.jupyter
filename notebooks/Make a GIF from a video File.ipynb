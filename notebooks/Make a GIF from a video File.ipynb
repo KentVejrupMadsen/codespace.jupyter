{
 "cells": [
  {
   "cell_type": "markdown",
   "id": "b457a423",
   "metadata": {},
   "source": [
    "# Make a gif from video File"
   ]
  },
  {
   "cell_type": "code",
   "execution_count": 1,
   "metadata": {},
   "outputs": [
    {
     "name": "stdout",
     "output_type": "stream",
     "text": [
      "Requirement already satisfied: opencv-python in ./.environment/lib/python3.10/site-packages (4.8.0.74)\n",
      "Requirement already satisfied: numpy>=1.21.2 in ./.environment/lib/python3.10/site-packages (from opencv-python) (1.24.3)\n",
      "Note: you may need to restart the kernel to use updated packages.\n",
      "Requirement already satisfied: numpy in ./.environment/lib/python3.10/site-packages (1.24.3)\n",
      "Note: you may need to restart the kernel to use updated packages.\n"
     ]
    }
   ],
   "source": [
    "%pip install opencv-python\n",
    "%pip install numpy\n"
   ]
  },
  {
   "cell_type": "code",
   "execution_count": 2,
   "id": "7b9386a2",
   "metadata": {},
   "outputs": [],
   "source": [
    "from cv2 import VideoCapture, destroyAllWindows, cvtColor, COLOR_BGR2RGB, CAP_PROP_FRAME_COUNT, CAP_PROP_FPS\n",
    "from IPython.display import display\n",
    "import numpy\n",
    "from PIL import Image\n",
    "from HardenedSteel.objects import CounterObject\n",
    "from math import floor"
   ]
  },
  {
   "cell_type": "code",
   "execution_count": 3,
   "id": "c8109423",
   "metadata": {},
   "outputs": [],
   "source": [
    "location_to_video: str = '/mnt/d/upload/Counter-strike  Global Offensive 2023.07.09 - 17.29.08.01.mp4'"
   ]
  },
  {
   "cell_type": "code",
   "execution_count": 4,
   "id": "e5444f42",
   "metadata": {},
   "outputs": [],
   "source": [
    "def get_frames_count(stream: VideoCapture) -> int:\n",
    "    return stream.get(CAP_PROP_FRAME_COUNT)\n",
    "\n",
    "def get_frames_per_second(stream: VideoCapture) -> float:\n",
    "    return stream.get(CAP_PROP_FPS)\n"
   ]
  },
  {
   "cell_type": "code",
   "execution_count": 5,
   "id": "88c8e4cb",
   "metadata": {},
   "outputs": [],
   "source": [
    "FullHD_Width: int = 1920\n",
    "FullHD_Height: int = 1080\n",
    "\n",
    "resize_width: int = int(FullHD_Width/2)\n",
    "resize_height: int = int(FullHD_Height/2)\n",
    "\n",
    "preview_size: tuple = (resize_width, resize_height)"
   ]
  },
  {
   "cell_type": "code",
   "execution_count": 6,
   "id": "3f2e02d7",
   "metadata": {},
   "outputs": [],
   "source": [
    "video_stream = VideoCapture(location_to_video)\n",
    "\n",
    "if video_stream.isOpened() == False:\n",
    "    print('Error Occured loading the file')\n",
    "    raise Exception('')\n",
    "\n",
    "frame_per_seconds: int = get_frames_per_second(video_stream)\n",
    "max_duration: float = floor(get_frames_count(video_stream)/frame_per_seconds)"
   ]
  },
  {
   "cell_type": "code",
   "execution_count": 7,
   "id": "93c85f6a",
   "metadata": {},
   "outputs": [],
   "source": [
    "def to_seconds(\n",
    "    min: int, \n",
    "    seconds: int\n",
    ") -> int:\n",
    "    return_value: int = 0\n",
    "    min_to_seconds: int = min * 60\n",
    "    return_value = min_to_seconds + seconds\n",
    "    return return_value"
   ]
  },
  {
   "cell_type": "code",
   "execution_count": 8,
   "id": "90a87138",
   "metadata": {},
   "outputs": [],
   "source": [
    "def fast_forward_to(\n",
    "    stream: VideoCapture, \n",
    "    min: int, \n",
    "    seconds: int\n",
    ") -> int:\n",
    "    global frame_per_seconds\n",
    "\n",
    "    at: int = to_seconds(min, seconds)\n",
    "    frames_at = CounterObject()\n",
    "    current_duration = CounterObject()\n",
    "    \n",
    "    while stream.isOpened():\n",
    "        # stream.read combines, stream.grab and retrieve\n",
    "        ret, frame = stream.read()\n",
    "\n",
    "        if bool(ret):\n",
    "            if int(frames_at)%int(frame_per_seconds) == 0:\n",
    "                current_duration.increment()\n",
    "            frames_at.increment()\n",
    "\n",
    "        if int(current_duration) >= at:\n",
    "            break\n",
    "    \n",
    "    return int(frames_at)"
   ]
  },
  {
   "cell_type": "code",
   "execution_count": 9,
   "id": "258fc611",
   "metadata": {},
   "outputs": [
    {
     "data": {
      "text/plain": [
       "60721"
      ]
     },
     "execution_count": 9,
     "metadata": {},
     "output_type": "execute_result"
    }
   ],
   "source": [
    "fast_forward_to(video_stream, 16, 53)"
   ]
  },
  {
   "cell_type": "code",
   "execution_count": 10,
   "id": "e5f74654",
   "metadata": {},
   "outputs": [],
   "source": [
    "sequence_to_animate: list = list()"
   ]
  },
  {
   "cell_type": "code",
   "execution_count": 11,
   "id": "7b0dda23",
   "metadata": {},
   "outputs": [],
   "source": [
    "ret = None\n",
    "frame = None"
   ]
  },
  {
   "cell_type": "code",
   "execution_count": 12,
   "id": "32f1e301",
   "metadata": {},
   "outputs": [],
   "source": [
    "duration_in_minutes: int = 4\n",
    "duration_in_seconds: int = duration_in_minutes * 60\n",
    "duration_in_frames: int = duration_in_seconds * 60\n",
    "length_in_frames: int = duration_in_frames"
   ]
  },
  {
   "cell_type": "code",
   "execution_count": 13,
   "id": "57f893ea",
   "metadata": {},
   "outputs": [],
   "source": [
    "def retrieve_at(index: int):\n",
    "    global video_stream\n",
    "    stream: VideoCapture = video_stream\n",
    "    return stream.retrieve()"
   ]
  },
  {
   "cell_type": "code",
   "execution_count": 14,
   "id": "92e94df3",
   "metadata": {},
   "outputs": [
    {
     "ename": "",
     "evalue": "",
     "output_type": "error",
     "traceback": [
      "\u001b[1;31mThe Kernel crashed while executing code in the the current cell or a previous cell. Please review the code in the cell(s) to identify a possible cause of the failure. Click <a href='https://aka.ms/vscodeJupyterKernelCrash'>here</a> for more info. View Jupyter <a href='command:jupyter.viewOutput'>log</a> for further details."
     ]
    },
    {
     "ename": "",
     "evalue": "",
     "output_type": "error",
     "traceback": [
      "\u001b[1;31mCanceled future for execute_request message before replies were done"
     ]
    }
   ],
   "source": [
    "for i in range(length_in_frames):\n",
    "    ret, frame = video_stream.read()\n",
    "\n",
    "    if bool(ret):\n",
    "        frame = cvtColor(\n",
    "            frame, \n",
    "            COLOR_BGR2RGB\n",
    "        )\n",
    "\n",
    "        image = Image.fromarray(frame)\n",
    "        image = image.resize(preview_size)\n",
    "        \n",
    "        sequence_to_animate.append(image)\n",
    "    "
   ]
  },
  {
   "cell_type": "code",
   "execution_count": null,
   "id": "120c18a5",
   "metadata": {},
   "outputs": [],
   "source": [
    "first: Image.Image = sequence_to_animate[0]\n",
    "\n",
    "first.save(\n",
    "    '/mnt/d/debugging/final.gif', \n",
    "    save_all=True, \n",
    "    append_images=sequence_to_animate[1:], \n",
    "    duration=30, \n",
    "    loop = 0, \n",
    "    optimize=True\n",
    ")"
   ]
  },
  {
   "cell_type": "code",
   "execution_count": null,
   "id": "4bf075fb",
   "metadata": {},
   "outputs": [],
   "source": [
    "video_stream.release()\n",
    "destroyAllWindows()"
   ]
  }
 ],
 "metadata": {
  "kernelspec": {
   "display_name": "Python 3 (ipykernel)",
   "language": "python",
   "name": "python3"
  },
  "language_info": {
   "codemirror_mode": {
    "name": "ipython",
    "version": 3
   },
   "file_extension": ".py",
   "mimetype": "text/x-python",
   "name": "python",
   "nbconvert_exporter": "python",
   "pygments_lexer": "ipython3",
   "version": "3.10.6"
  }
 },
 "nbformat": 4,
 "nbformat_minor": 5
}
