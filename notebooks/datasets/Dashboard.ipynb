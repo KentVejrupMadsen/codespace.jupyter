{
 "cells": [
  {
   "cell_type": "code",
   "execution_count": 2,
   "metadata": {},
   "outputs": [],
   "source": [
    "from matplotlib import pyplot as Plot\n",
    "import csv\n",
    "\n",
    "from os.path import join\n",
    "from os import walk\n",
    "\n",
    "%matplotlib ipympl"
   ]
  },
  {
   "cell_type": "code",
   "execution_count": 1,
   "id": "a0333f53",
   "metadata": {},
   "outputs": [],
   "source": [
    "files_with_detected_errors: list = list()"
   ]
  },
  {
   "cell_type": "code",
   "execution_count": 3,
   "id": "ed0907c5",
   "metadata": {},
   "outputs": [],
   "source": [
    "dataset_at: str = '/mnt/c/Workspace/DataSets'\n",
    "dataset_at = join(\n",
    "    dataset_at, \n",
    "    'published'\n",
    ")\n",
    "\n",
    "dataset_at = join(\n",
    "    dataset_at, \n",
    "    'common hardware initiative'\n",
    ")\n",
    "\n",
    "dataset_at = join(\n",
    "    dataset_at, \n",
    "    'Archive'\n",
    ")\n",
    "\n",
    "dataset_at = join(\n",
    "    dataset_at, \n",
    "    'dataset'\n",
    ")\n",
    "dataset_at = join(\n",
    "    dataset_at, \n",
    "    'csv'\n",
    ")"
   ]
  },
  {
   "cell_type": "code",
   "execution_count": 4,
   "id": "2e8378ef",
   "metadata": {},
   "outputs": [],
   "source": [
    "csv_files: list = list()\n",
    "\n",
    "def found_path(path: str):\n",
    "    global csv_files\n",
    "    csv_files.append(path)\n",
    "\n",
    "for root, directories, files in walk(\n",
    "    dataset_at, \n",
    "    topdown=False\n",
    "):\n",
    "    for file in files:\n",
    "        full_path: str = join(root, file)\n",
    "        extension = file.split('.')\n",
    "        if extension[1] == 'csv':\n",
    "            found_path(full_path)"
   ]
  },
  {
   "cell_type": "code",
   "execution_count": 5,
   "id": "1fa666fd",
   "metadata": {},
   "outputs": [],
   "source": [
    "if                                              \\\n",
    "    not (files_with_detected_errors is None)    \\\n",
    "    and                                         \\\n",
    "    not (len(files_with_detected_errors) == 0):\n",
    "    del files_with_detected_errors\n",
    "    files_with_detected_errors = list()\n",
    "\n",
    "for file_location in csv_files:\n",
    "    with open(file_location, 'r', newline='') as file:\n",
    "        try:\n",
    "            reader = csv.DictReader(file)\n",
    "            for row in reader:\n",
    "                pass\n",
    "\n",
    "        except Exception as failure:\n",
    "            files_with_detected_errors.append(\n",
    "                {\n",
    "                    'location': file_location,\n",
    "                    'exception': failure\n",
    "                }\n",
    "            )\n",
    "            \n",
    "            print(\n",
    "                'file location: ', \n",
    "                file_location\n",
    "            )\n",
    "            print(\n",
    "                '---- message of failure: ', \n",
    "                str(failure)\n",
    "            )"
   ]
  },
  {
   "cell_type": "code",
   "execution_count": 19,
   "id": "534a8c24",
   "metadata": {},
   "outputs": [],
   "source": [
    "for file_entity in files_with_detected_errors:\n",
    "    file_location: str = file_entity['location']\n",
    "\n",
    "    new_lines: list = list()\n",
    "\n",
    "    with open(\n",
    "        file_location, 'r'\n",
    "    ) as file:\n",
    "        lines = file.readlines()\n",
    "        size_of_lines = len(lines)\n",
    "\n",
    "        for index in range(size_of_lines):\n",
    "            line = lines[index]\n",
    "\n",
    "            if '\\0' in line:\n",
    "                new: str = line.replace('\\0', '')\n",
    "                lines[index] = new\n",
    "            \n",
    "            new_lines.append(\n",
    "                lines[index]\n",
    "            )\n",
    "        file.close()\n",
    "    \n",
    "    with open(file_location, 'w') as overwrite:\n",
    "        overwrite.writelines(new_lines)\n",
    "        overwrite.close()\n",
    "\n",
    "    new_lines.clear()"
   ]
  },
  {
   "cell_type": "code",
   "execution_count": 28,
   "id": "880c60b2",
   "metadata": {},
   "outputs": [],
   "source": [
    "for file_entity in files_with_detected_errors:\n",
    "    location: str = file_entity['location: ']\n",
    "    \n",
    "    with open(\n",
    "        location, \n",
    "        'r', \n",
    "        newline=''\n",
    "    ) as test_file:\n",
    "        reader = csv.DictReader(test_file)\n",
    "\n",
    "        for row in reader:\n",
    "            current_row = row\n",
    "\n",
    "        test_file.close()\n",
    "    "
   ]
  }
 ],
 "metadata": {
  "kernelspec": {
   "display_name": "Python 3 (ipykernel)",
   "language": "python",
   "name": "python3"
  },
  "language_info": {
   "codemirror_mode": {
    "name": "ipython",
    "version": 3
   },
   "file_extension": ".py",
   "mimetype": "text/x-python",
   "name": "python",
   "nbconvert_exporter": "python",
   "pygments_lexer": "ipython3",
   "version": "3.10.6"
  }
 },
 "nbformat": 4,
 "nbformat_minor": 5
}
