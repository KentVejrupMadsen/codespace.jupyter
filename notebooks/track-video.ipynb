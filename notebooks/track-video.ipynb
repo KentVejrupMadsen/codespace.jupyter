{
 "cells": [
  {
   "attachments": {},
   "cell_type": "markdown",
   "id": "b3c04bbb",
   "metadata": {},
   "source": [
    "# Python Script begins"
   ]
  },
  {
   "cell_type": "code",
   "execution_count": 653,
   "id": "54ef5af7",
   "metadata": {},
   "outputs": [],
   "source": [
    "from os.path \\\n",
    "    import join \\\n",
    "        as join_path\n",
    "\n",
    "from os.path import isfile\n",
    "\n",
    "from math import floor"
   ]
  },
  {
   "cell_type": "code",
   "execution_count": 654,
   "id": "2168ba1d",
   "metadata": {},
   "outputs": [],
   "source": [
    "import cv2\n",
    "\n",
    "from cv2 \\\n",
    "    import \\\n",
    "        VideoCapture,        \\\n",
    "        destroyAllWindows,   \\\n",
    "        imshow,              \\\n",
    "        waitKey,             \\\n",
    "        resize,              \\\n",
    "        cvtColor\n"
   ]
  },
  {
   "attachments": {},
   "cell_type": "markdown",
   "id": "f036dab2",
   "metadata": {},
   "source": [
    "## Constants"
   ]
  },
  {
   "cell_type": "code",
   "execution_count": 655,
   "id": "a3a7ffa8-882a-44b7-b3fb-95a6ffe2870b",
   "metadata": {},
   "outputs": [],
   "source": [
    "top_label: str = 'top'\n",
    "bottom_label: str = 'bottom'\n",
    "left_label: str = 'left'\n",
    "right_label: str = 'right'\n"
   ]
  },
  {
   "cell_type": "code",
   "execution_count": null,
   "id": "174e07e2",
   "metadata": {},
   "outputs": [],
   "source": [
    "location_directory: str = 'C:\\\\Users\\\\Kentv\\\\Videos\\\\Counter-strike  Global Offensive'\n",
    "\n",
    "file_name: str = 'Counter-strike  Global Offensive 2023.05.16 - 17.30.34.02'\n",
    "file_extension: str = 'mp4'"
   ]
  },
  {
   "attachments": {},
   "cell_type": "markdown",
   "id": "36396e85",
   "metadata": {},
   "source": [
    "## Variables"
   ]
  },
  {
   "cell_type": "code",
   "execution_count": 658,
   "id": "194965b3",
   "metadata": {},
   "outputs": [],
   "source": [
    "area_boundary = {\n",
    "    top_label: 0,\n",
    "    left_label: 0,\n",
    "    right_label: 1920,\n",
    "    bottom_label: 1080\n",
    "}\n",
    "\n",
    "width_multiplier: float = 0.75\n",
    "height_multiplier: float = 0.75\n",
    "\n",
    "debug_use_jupyter: bool = False\n",
    "debug_use_cv2: bool = True"
   ]
  },
  {
   "cell_type": "code",
   "execution_count": 656,
   "id": "4ebe0529",
   "metadata": {},
   "outputs": [],
   "source": [
    "def get_width_multiplier():\n",
    "    global width_multiplier\n",
    "    return width_multiplier\n",
    "\n",
    "def is_width_multiplier_default() -> bool:\n",
    "    global width_multiplier\n",
    "    return width_multiplier == 1.0\n",
    "\n",
    "def get_height_multiplier():\n",
    "    global height_multiplier\n",
    "    return height_multiplier\n",
    "\n",
    "def is_height_multiplier_default() -> bool:\n",
    "    global height_multiplier\n",
    "    return height_multiplier == 1.0\n",
    "\n",
    "def get_resized_height(\n",
    "        height: float\n",
    ") -> int:\n",
    "    global height_multiplier\n",
    "    return floor(height_multiplier * height)\n",
    "\n",
    "\n",
    "def get_resized_width(\n",
    "        width: float\n",
    ") -> int:\n",
    "    global width_multiplier\n",
    "    return floor(width_multiplier * width)\n",
    "\n"
   ]
  },
  {
   "cell_type": "code",
   "execution_count": 660,
   "id": "de85f866",
   "metadata": {},
   "outputs": [],
   "source": [
    "def get_use_of_jupyter() -> bool:\n",
    "    global debug_use_jupyter\n",
    "    return debug_use_jupyter\n",
    "\n",
    "def get_use_of_cv2() -> bool:\n",
    "    global debug_use_cv2\n",
    "    return debug_use_cv2\n",
    "\n",
    "def convert_to_grayscale(frame):\n",
    "    return cvtColor(\n",
    "        frame, \n",
    "        cv2.COLOR_RGB2GRAY\n",
    "    )"
   ]
  },
  {
   "cell_type": "code",
   "execution_count": 662,
   "id": "26d0c992",
   "metadata": {},
   "outputs": [],
   "source": [
    "def full_path_to_file() -> str:\n",
    "    global location_directory, file_name, file_extension\n",
    "    file: str = str(file_name + '.' + file_extension)\n",
    "    \n",
    "    return join_path(location_directory, file)"
   ]
  },
  {
   "cell_type": "code",
   "execution_count": null,
   "id": "9c36af50",
   "metadata": {},
   "outputs": [],
   "source": []
  },
  {
   "cell_type": "code",
   "execution_count": 663,
   "id": "9126684e",
   "metadata": {},
   "outputs": [],
   "source": [
    "def cv2_detect_escape() -> bool:\n",
    "    return waitKey(5) & 0xFF == ord('q')"
   ]
  },
  {
   "cell_type": "code",
   "execution_count": 664,
   "id": "1a1d3cd2",
   "metadata": {},
   "outputs": [],
   "source": [
    "class VisionModel:\n",
    "    def __init__(\n",
    "            self, \n",
    "            location_path: str | None = None\n",
    "        ):\n",
    "        location_to_file: str | None = location_path\n",
    "\n",
    "        if location_to_file is None:\n",
    "            location_to_file = full_path_to_file()\n",
    "\n",
    "        self.capture_device = VideoCapture(location_to_file)\n",
    "\n",
    "        self.stop: bool = False\n",
    "        self.is_debugging: bool = False\n",
    "\n",
    "    def __del__(self):\n",
    "        self.capture_device.release()\n",
    "\n",
    "    def execute(self):\n",
    "        past_frame = None\n",
    "        frame_to_show = None\n",
    "\n",
    "        while self.capture_device.isOpened() and self.get_continue():\n",
    "            return_value, frame = self.capture_device.read()\n",
    "            frame = self.fit_frame(frame=frame)\n",
    "\n",
    "            # \n",
    "            frame_to_show = frame\n",
    "\n",
    "            if (past_frame is None):\n",
    "                pass\n",
    "\n",
    "            if  return_value == True and (not (frame_to_show is None)):\n",
    "                self.__show_vision(\n",
    "                    'VisionModel', \n",
    "                    frame=frame_to_show\n",
    "                )\n",
    "\n",
    "                if cv2_detect_escape():\n",
    "                    self.stop_now()\n",
    "            \n",
    "            past_frame = frame\n",
    "\n",
    "\n",
    "    def fit_frame(\n",
    "            self, \n",
    "            frame\n",
    "        ):\n",
    "        if is_width_multiplier_default()    \\\n",
    "            and                             \\\n",
    "            is_height_multiplier_default():\n",
    "            return frame\n",
    "        \n",
    "        width, height, channels = frame.shape\n",
    "\n",
    "        return resize(\n",
    "            frame, \n",
    "            (\n",
    "                get_resized_height(\n",
    "                    height=height\n",
    "                ), \n",
    "                get_resized_width(\n",
    "                    width=width\n",
    "                )\n",
    "            )\n",
    "        )\n",
    "\n",
    "    def stop_now(self) -> None:\n",
    "        self.stop = True\n",
    "\n",
    "    def get_stop(self) -> bool:\n",
    "        return self.stop\n",
    "    \n",
    "    def get_continue(self) -> bool:\n",
    "        return not self.stop\n",
    "    \n",
    "    def get_is_debugging(self) -> bool:\n",
    "        return self.is_debugging\n",
    "    \n",
    "    def __show_vision(\n",
    "            self, \n",
    "            window_name, \n",
    "            frame\n",
    "        ) -> None:\n",
    "        if self.get_is_debugging():\n",
    "            if get_use_of_cv2():\n",
    "                imshow(\n",
    "                    window_name,\n",
    "                    convert_to_grayscale(\n",
    "                        frame\n",
    "                    )\n",
    "                )\n"
   ]
  },
  {
   "cell_type": "code",
   "execution_count": 665,
   "id": "a65bf47b",
   "metadata": {},
   "outputs": [],
   "source": [
    "vision = VisionModel()\n",
    "vision.is_debugging = True"
   ]
  },
  {
   "cell_type": "code",
   "execution_count": 666,
   "id": "2decc78a",
   "metadata": {},
   "outputs": [],
   "source": [
    "vision.execute()"
   ]
  },
  {
   "cell_type": "code",
   "execution_count": 667,
   "id": "df0674f1",
   "metadata": {},
   "outputs": [],
   "source": [
    "del vision"
   ]
  },
  {
   "cell_type": "code",
   "execution_count": 668,
   "id": "ebbdd0bd",
   "metadata": {},
   "outputs": [],
   "source": [
    "destroyAllWindows()"
   ]
  }
 ],
 "metadata": {
  "kernelspec": {
   "display_name": "Python 3 (ipykernel)",
   "language": "python",
   "name": "python3"
  }
 },
 "nbformat": 4,
 "nbformat_minor": 5
}
