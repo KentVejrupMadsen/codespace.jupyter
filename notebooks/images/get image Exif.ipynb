{
 "cells": [
  {
   "attachments": {},
   "cell_type": "markdown",
   "id": "b3c04bbb",
   "metadata": {},
   "source": [
    "# Load Image exifs\n"
   ]
  },
  {
   "cell_type": "code",
   "execution_count": 41,
   "id": "a9a43f98",
   "metadata": {},
   "outputs": [
    {
     "name": "stdout",
     "output_type": "stream",
     "text": [
      "Requirement already satisfied: pillow in ./.environment/lib/python3.10/site-packages (10.0.0)\n",
      "Note: you may need to restart the kernel to use updated packages.\n",
      "Requirement already satisfied: numpy in ./.environment/lib/python3.10/site-packages (1.25.1)\n",
      "Note: you may need to restart the kernel to use updated packages.\n",
      "Requirement already satisfied: requests in ./.environment/lib/python3.10/site-packages (2.31.0)\n",
      "Requirement already satisfied: charset-normalizer<4,>=2 in ./.environment/lib/python3.10/site-packages (from requests) (3.2.0)\n",
      "Requirement already satisfied: idna<4,>=2.5 in ./.environment/lib/python3.10/site-packages (from requests) (3.4)\n",
      "Requirement already satisfied: urllib3<3,>=1.21.1 in ./.environment/lib/python3.10/site-packages (from requests) (2.0.3)\n",
      "Requirement already satisfied: certifi>=2017.4.17 in ./.environment/lib/python3.10/site-packages (from requests) (2023.5.7)\n",
      "Note: you may need to restart the kernel to use updated packages.\n"
     ]
    }
   ],
   "source": [
    "%pip install pillow\n",
    "%pip install numpy\n",
    "%pip install requests"
   ]
  },
  {
   "cell_type": "code",
   "execution_count": 42,
   "id": "f321b76d",
   "metadata": {},
   "outputs": [],
   "source": [
    "# https://medium.com/geekculture/extract-exif-data-from-photos-using-python-440e598274f1"
   ]
  },
  {
   "cell_type": "code",
   "execution_count": 72,
   "id": "329edfa0",
   "metadata": {},
   "outputs": [],
   "source": [
    "from PIL import Image\n",
    "from PIL import ExifTags\n",
    "from PIL.ExifTags import GPS, GPSTAGS\n",
    "\n",
    "from io import BytesIO\n",
    "\n",
    "from requests import get as get_http_request\n",
    "from IPython.display import display"
   ]
  },
  {
   "cell_type": "code",
   "execution_count": 44,
   "id": "cfbe371f",
   "metadata": {},
   "outputs": [],
   "source": [
    "url_to_image: str = '''https://upload.wikimedia.org/wikipedia/commons/7/7c/3_Strandbygade%2C_Esbjerg.jpg'''\n",
    "\n",
    "headers = {\n",
    "    'User-Agent': 'jupyter-script/0.1(https://github.com/KentVejrupMadsen/codespace.jupyter; kent.vejrup.madsen@designermadsen.dk)'\n",
    "}"
   ]
  },
  {
   "cell_type": "code",
   "execution_count": 45,
   "id": "c2671c73",
   "metadata": {},
   "outputs": [],
   "source": [
    "response = get_http_request(\n",
    "    url=url_to_image, \n",
    "    headers=headers\n",
    ")\n",
    "\n",
    "if not response.ok:\n",
    "    raise Exception('Image not downloaded, due to error')\n",
    "\n",
    "if not (response.headers['content-type'] == 'image/jpeg'):\n",
    "    raise Exception('is not an image')"
   ]
  },
  {
   "cell_type": "code",
   "execution_count": 98,
   "id": "38aba487",
   "metadata": {},
   "outputs": [],
   "source": [
    "exif_table = {}\n",
    "\n",
    "with Image.open(BytesIO(response.content)) as image:\n",
    "    information = image.getexif()\n",
    "\n",
    "    for key, value in information.items():\n",
    "        label=ExifTags.TAGS.get(key)\n",
    "        if label == 'GPSInfo':\n",
    "            value = information.get_ifd(key)\n",
    "\n",
    "            gps_info = {}\n",
    "\n",
    "            for key in value.keys():\n",
    "                gps_label = GPSTAGS.get(key)\n",
    "                gps_info[gps_label] = value[key]\n",
    "            \n",
    "            value = gps_info\n",
    "        \n",
    "        exif_table[label]=value\n"
   ]
  },
  {
   "cell_type": "code",
   "execution_count": 99,
   "id": "e63dc240",
   "metadata": {},
   "outputs": [
    {
     "name": "stdout",
     "output_type": "stream",
     "text": [
      "{'ImageWidth': 3000, 'ImageLength': 4000, 'BitsPerSample': (8, 8, 8), 'GPSInfo': {'GPSLatitudeRef': 'N', 'GPSLatitude': (55.467389, 0.0, 0.0), 'GPSLongitudeRef': 'E', 'GPSLongitude': (8.441235, 0.0, 0.0), 'GPSAltitudeRef': b'\\x00', 'GPSAltitude': 56.886, 'GPSTimeStamp': (7.0, 37.0, 16.0), 'GPSProcessingMethod': b'ASCII\\x00\\x00\\x00GPS\\x00', 'GPSDateStamp': '2023:05:17'}, 'PhotometricInterpretation': 2, 'ResolutionUnit': 2, 'ExifOffset': 296, 'Make': 'OnePlus', 'Model': 'AC2003', 'Software': 'Adobe Photoshop 24.4 (Windows)', 'Orientation': 1, 'DateTime': '2023:05:18 22:33:01', 'YCbCrPositioning': 1, 'SamplesPerPixel': 3, 'XResolution': 72.0, 'YResolution': 72.0}\n"
     ]
    }
   ],
   "source": [
    "print(exif_table)"
   ]
  }
 ],
 "metadata": {
  "kernelspec": {
   "display_name": "Python 3 (ipykernel)",
   "language": "python",
   "name": "python3"
  },
  "language_info": {
   "codemirror_mode": {
    "name": "ipython",
    "version": 3
   },
   "file_extension": ".py",
   "mimetype": "text/x-python",
   "name": "python",
   "nbconvert_exporter": "python",
   "pygments_lexer": "ipython3",
   "version": "3.10.6"
  }
 },
 "nbformat": 4,
 "nbformat_minor": 5
}
