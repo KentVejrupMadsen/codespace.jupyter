{
 "cells": [
  {
   "cell_type": "code",
   "execution_count": 2,
   "metadata": {},
   "outputs": [
    {
     "name": "stdout",
     "output_type": "stream",
     "text": [
      "Requirement already satisfied: pillow in ./.environment/lib/python3.10/site-packages (9.5.0)\n",
      "Note: you may need to restart the kernel to use updated packages.\n"
     ]
    }
   ],
   "source": [
    "%pip install pillow"
   ]
  },
  {
   "cell_type": "code",
   "execution_count": 7,
   "id": "eb1fcf61",
   "metadata": {},
   "outputs": [],
   "source": [
    "from PIL import Image\n",
    "from IPython.display import display\n",
    "\n",
    "from os import listdir\n",
    "from os.path import join"
   ]
  },
  {
   "cell_type": "code",
   "execution_count": 3,
   "id": "c9e24547",
   "metadata": {},
   "outputs": [],
   "source": [
    "path_to_images: str = '/mnt/d/group/1'"
   ]
  },
  {
   "cell_type": "code",
   "execution_count": 5,
   "id": "7ef9b695",
   "metadata": {},
   "outputs": [],
   "source": [
    "files: list = listdir(path_to_images)"
   ]
  },
  {
   "cell_type": "code",
   "execution_count": 8,
   "id": "61c1fe6d",
   "metadata": {},
   "outputs": [],
   "source": [
    "for index in range(len(files)):\n",
    "    files[index]: str = join(path_to_images, files[index])"
   ]
  },
  {
   "cell_type": "code",
   "execution_count": 10,
   "id": "bda21969",
   "metadata": {},
   "outputs": [],
   "source": [
    "images: list = list()\n",
    "\n",
    "for file in files:\n",
    "    image = Image.open(file)\n",
    "    images.append(image)"
   ]
  },
  {
   "cell_type": "code",
   "execution_count": 14,
   "id": "402fd3ec",
   "metadata": {},
   "outputs": [],
   "source": [
    "for image_index in range(len(images)):\n",
    "    selected: Image.Image = images[image_index]\n",
    "    width, height = selected.size\n",
    "\n",
    "    images[image_index] = selected.resize((int(width/4), int(height/4)))"
   ]
  },
  {
   "cell_type": "code",
   "execution_count": 18,
   "id": "4f957e7b",
   "metadata": {},
   "outputs": [],
   "source": [
    "first: Image.Image = images[0]\n",
    "first.save(\n",
    "    join(\n",
    "        path_to_images, 'final.gif'\n",
    "    ), \n",
    "    save_all=True, \n",
    "    append_images=images[1:], \n",
    "    duration=20, \n",
    "    loop=0, \n",
    "    optimize=True\n",
    ")"
   ]
  }
 ],
 "metadata": {
  "kernelspec": {
   "display_name": "Python 3 (ipykernel)",
   "language": "python",
   "name": "python3"
  },
  "language_info": {
   "codemirror_mode": {
    "name": "ipython",
    "version": 3
   },
   "file_extension": ".py",
   "mimetype": "text/x-python",
   "name": "python",
   "nbconvert_exporter": "python",
   "pygments_lexer": "ipython3",
   "version": "3.10.6"
  }
 },
 "nbformat": 4,
 "nbformat_minor": 5
}
