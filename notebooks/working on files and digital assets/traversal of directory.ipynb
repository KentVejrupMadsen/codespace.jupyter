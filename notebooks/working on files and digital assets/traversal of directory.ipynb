{
 "cells": [
  {
   "cell_type": "code",
   "execution_count": 8,
   "id": "6742fd55",
   "metadata": {},
   "outputs": [],
   "source": [
    "#\n",
    "from os \\\n",
    "    import walk\n",
    "\n",
    "from os.path \\\n",
    "    import join"
   ]
  },
  {
   "cell_type": "code",
   "execution_count": 7,
   "id": "6147c169",
   "metadata": {},
   "outputs": [],
   "source": [
    "for root_directory,                         \\\n",
    "    directories,                            \\\n",
    "    files                                   \\\n",
    "    in walk(\n",
    "        '/home/jupyter', \n",
    "        topdown=False\n",
    "    ):\n",
    "    # For all files found\n",
    "    for file in files:\n",
    "        full_path_to_file: str = join(\n",
    "            root_directory, \n",
    "            file\n",
    "        )\n",
    "    \n",
    "    # For all directories found\n",
    "    for directory in directories:\n",
    "        full_path_to_directory: str = join(\n",
    "            root_directory, \n",
    "            directory\n",
    "        )\n",
    "        "
   ]
  }
 ],
 "metadata": {
  "kernelspec": {
   "display_name": "Python 3 (ipykernel)",
   "language": "python",
   "name": "python3"
  }
 },
 "nbformat": 4,
 "nbformat_minor": 5
}
