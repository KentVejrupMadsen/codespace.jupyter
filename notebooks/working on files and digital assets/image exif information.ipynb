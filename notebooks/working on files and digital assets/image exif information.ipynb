{
 "cells": [
  {
   "attachments": {},
   "cell_type": "markdown",
   "id": "b3c04bbb",
   "metadata": {},
   "source": [
    "# Sandbox\n",
    "For my ideas"
   ]
  },
  {
   "cell_type": "code",
   "execution_count": null,
   "id": "eb7309d2",
   "metadata": {},
   "outputs": [],
   "source": [
    "!pip install -r workspace/requirements.txt"
   ]
  },
  {
   "cell_type": "code",
   "execution_count": 1,
   "id": "0d59ed86",
   "metadata": {},
   "outputs": [],
   "source": [
    "from PIL import Image\n",
    "\n",
    "from PIL.ExifTags import TAGS as exif_tags\n",
    "from PIL.ExifTags import GPS, GPSTAGS\n",
    "\n",
    "from io import BytesIO\n",
    "from requests import get as http_get_requests\n",
    "\n",
    "from IPython.display import display"
   ]
  },
  {
   "cell_type": "code",
   "execution_count": 2,
   "id": "5a89bc55",
   "metadata": {},
   "outputs": [],
   "source": [
    "url_path: str = 'https://upload.wikimedia.org/wikipedia/commons/5/5d/I._C._M%C3%B8ller_Parken%2C_Esbjerg.jpg'\n",
    "headers: dict = {\n",
    "    'User-Agent': 'jupyter-script/0.1(https://github.com/KentVejrupMadsen/codespace.jupyter; kent.vejrup.madsen@designermadsen.dk)'\n",
    "}\n",
    "\n",
    "expected_content_type: str = str('image/jpeg').lower()\n",
    "content_type: str = str('content-type').lower()"
   ]
  },
  {
   "cell_type": "code",
   "execution_count": 6,
   "id": "d1f7a701",
   "metadata": {},
   "outputs": [],
   "source": [
    "def convert_gps_information(information) -> dict:\n",
    "    gps_information: dict = {}\n",
    "\n",
    "    for key in information.keys():\n",
    "        gps_label = GPSTAGS.get(key)\n",
    "        gps_information[gps_label] = information[key]\n",
    "\n",
    "    return gps_information"
   ]
  },
  {
   "cell_type": "code",
   "execution_count": 7,
   "id": "e262d8ce",
   "metadata": {},
   "outputs": [],
   "source": [
    "def retrievement_of_exif_table(\n",
    "        exif_information\n",
    "    ) -> dict:\n",
    "    exif_table: dict = {}\n",
    "\n",
    "    for key, value in exif_information.items():\n",
    "        exif_label = exif_tags.get(key)\n",
    "\n",
    "        if exif_label == 'GPSInfo':\n",
    "            value = convert_gps_information(\n",
    "                exif_information.get_ifd(\n",
    "                    key\n",
    "                )\n",
    "            )\n",
    "                \n",
    "        if not(\n",
    "            exif_label is None\n",
    "        ):\n",
    "            exif_table[exif_label] = value\n",
    "    \n",
    "    return exif_table"
   ]
  },
  {
   "cell_type": "code",
   "execution_count": 33,
   "id": "dcc60015",
   "metadata": {},
   "outputs": [
    {
     "name": "stdout",
     "output_type": "stream",
     "text": [
      "ImageWidth  |  4000\n",
      "ImageLength  |  3000\n",
      "BitsPerSample  |  (8, 8, 8)\n",
      "      GPSLatitudeRef  |  N\n",
      "      GPSLatitude  |  (55.468935, 0.0, 0.0)\n",
      "      GPSLongitudeRef  |  E\n",
      "      GPSLongitude  |  (8.449706, 0.0, 0.0)\n",
      "      GPSAltitudeRef  |  b'\\x00'\n",
      "      GPSAltitude  |  66.055\n",
      "      GPSTimeStamp  |  (7.0, 8.0, 28.0)\n",
      "      GPSProcessingMethod  |  b'ASCII\\x00\\x00\\x00GPS\\x00'\n",
      "      GPSDateStamp  |  2023:05:17\n",
      "PhotometricInterpretation  |  2\n",
      "ResolutionUnit  |  2\n",
      "ExifOffset  |  296\n",
      "Make  |  OnePlus\n",
      "Model  |  AC2003\n",
      "Software  |  Adobe Photoshop 24.4 (Windows)\n",
      "Orientation  |  1\n",
      "DateTime  |  2023:05:18 22:41:45\n",
      "YCbCrPositioning  |  1\n",
      "SamplesPerPixel  |  3\n",
      "XResolution  |  72.0\n",
      "YResolution  |  72.0\n"
     ]
    }
   ],
   "source": [
    "exif_table = {}\n",
    "\n",
    "with http_get_requests(\n",
    "    url=url_path, \n",
    "    headers=headers\n",
    ") as response:\n",
    "    if (                                                         \n",
    "        response.ok                                             \n",
    "        and                                                     \n",
    "        response.headers[content_type] == expected_content_type\n",
    "    ):    \n",
    "        with Image.open(\n",
    "            BytesIO(\n",
    "                response.content\n",
    "            )\n",
    "        ) as image:\n",
    "            exif_table = retrievement_of_exif_table(\n",
    "                image.getexif()\n",
    "            )\n",
    "\n",
    "for mlabel in exif_table.keys():\n",
    "    mvalue = exif_table[mlabel]\n",
    "\n",
    "    if isinstance(mvalue, dict):\n",
    "        for slabel in mvalue.keys():\n",
    "            svalue = mvalue[slabel]\n",
    "\n",
    "            print('     ', slabel, ' | ', svalue)\n",
    "    else:\n",
    "        print(mlabel, ' | ', mvalue)\n",
    "\n"
   ]
  }
 ],
 "metadata": {
  "kernelspec": {
   "display_name": "Python 3 (ipykernel)",
   "language": "python",
   "name": "python3"
  }
 },
 "nbformat": 4,
 "nbformat_minor": 5
}
