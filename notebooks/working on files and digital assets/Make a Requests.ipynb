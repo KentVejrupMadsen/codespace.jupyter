{
 "cells": [
  {
   "cell_type": "code",
   "execution_count": 32,
   "metadata": {},
   "outputs": [
    {
     "name": "stdout",
     "output_type": "stream",
     "text": [
      "Requirement already satisfied: requests in ./.environment/lib/python3.10/site-packages (2.31.0)\n",
      "Requirement already satisfied: charset-normalizer<4,>=2 in ./.environment/lib/python3.10/site-packages (from requests) (3.2.0)\n",
      "Requirement already satisfied: idna<4,>=2.5 in ./.environment/lib/python3.10/site-packages (from requests) (3.4)\n",
      "Requirement already satisfied: urllib3<3,>=1.21.1 in ./.environment/lib/python3.10/site-packages (from requests) (1.26.16)\n",
      "Requirement already satisfied: certifi>=2017.4.17 in ./.environment/lib/python3.10/site-packages (from requests) (2023.5.7)\n",
      "Note: you may need to restart the kernel to use updated packages.\n",
      "Requirement already satisfied: pillow in ./.environment/lib/python3.10/site-packages (10.0.0)\n",
      "Note: you may need to restart the kernel to use updated packages.\n"
     ]
    }
   ],
   "source": [
    "%pip install requests\n",
    "%pip install pillow"
   ]
  },
  {
   "cell_type": "code",
   "execution_count": 33,
   "id": "7365b217",
   "metadata": {},
   "outputs": [],
   "source": [
    "from requests import get as http_get_requests\n",
    "from PIL import Image\n",
    "from io import BytesIO\n",
    "from IPython.display import display\n",
    "\n",
    "url_to_image: str = 'https://upload.wikimedia.org/wikipedia/commons/thumb/3/30/Stepper_Motor%2C_Model_17HS4401N%2C_4.jpg/1024px-Stepper_Motor%2C_Model_17HS4401N%2C_4.jpg'\n",
    "\n",
    "headers = {\n",
    "    'User-Agent': 'Download tutorial([link]; [email])'\n",
    "}"
   ]
  },
  {
   "cell_type": "code",
   "execution_count": 41,
   "id": "af139b37",
   "metadata": {},
   "outputs": [],
   "source": [
    "response = http_get_requests(\n",
    "    url_to_image, \n",
    "    headers=headers\n",
    ")"
   ]
  },
  {
   "cell_type": "code",
   "execution_count": 42,
   "id": "2726003c",
   "metadata": {},
   "outputs": [],
   "source": [
    "content_type: str = response.headers['content-type']\n",
    "content_length: int = int(response.headers['content-length'])\n",
    "\n",
    "# Desired location to save the file\n",
    "save_at: str = '/mnt/c/Users/Kentv/Desktop/test/test.jpg'"
   ]
  },
  {
   "cell_type": "code",
   "execution_count": 43,
   "id": "f3bd6f4d",
   "metadata": {},
   "outputs": [],
   "source": [
    "with Image.open(\n",
    "    BytesIO(\n",
    "        response.content\n",
    "    )\n",
    ") as image:\n",
    "    image.save(save_at)"
   ]
  }
 ],
 "metadata": {
  "kernelspec": {
   "display_name": "Python 3 (ipykernel)",
   "language": "python",
   "name": "python3"
  },
  "language_info": {
   "codemirror_mode": {
    "name": "ipython",
    "version": 3
   },
   "file_extension": ".py",
   "mimetype": "text/x-python",
   "name": "python",
   "nbconvert_exporter": "python",
   "pygments_lexer": "ipython3",
   "version": "3.10.6"
  }
 },
 "nbformat": 4,
 "nbformat_minor": 5
}
